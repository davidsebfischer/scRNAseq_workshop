{
  "nbformat": 4,
  "nbformat_minor": 0,
  "metadata": {
    "colab": {
      "provenance": []
    },
    "kernelspec": {
      "name": "ir",
      "display_name": "R"
    },
    "language_info": {
      "name": "R"
    }
  },
  "cells": [
    {
      "cell_type": "markdown",
      "source": [
        "IPD single-cell genomics workshop - May 2024\n",
        "\n",
        "In this project you will be analyzing B cells from patients who have recovered from SARS-CoV2 infection. The data was generated using the 10x genomics platform.\n",
        "\n",
        "The paper is \"Maturation and persistence of the anti-SARS-CoV-2 memory B cell response\"\n",
        "\n",
        "\n",
        "(https://www.cell.com/cell/fulltext/S0092-8674(21)00093-3)\n",
        "\n",
        "Questions include:\n",
        "- What types of B cells do you observe?\n",
        "- Are B cell states similar between individuals?\n",
        "- Do B cell states change in late vs. early response to infection?\n",
        "- What are the features of BCRs in late vs early response?\n",
        "- Are there any shared BCR clones across individuals?\n",
        "- What are the BCR features and gene expression states of expanded BCR clones?"
      ],
      "metadata": {
        "id": "sRq7yTScGT11"
      }
    },
    {
      "cell_type": "code",
      "execution_count": null,
      "metadata": {
        "id": "ynA-x53lGJzF",
        "colab": {
          "base_uri": "https://localhost:8080/"
        },
        "collapsed": true,
        "outputId": "12d37a8e-29ab-458a-d6ed-c7b23d016272"
      },
      "outputs": [
        {
          "output_type": "stream",
          "name": "stdout",
          "text": [
            "51 packages can be upgraded. Run 'apt list --upgradable' to see them.\n",
            "Reading package lists...\n",
            "Building dependency tree...\n",
            "Reading state information...\n",
            "wget is already the newest version (1.21.2-2ubuntu1).\n",
            "ca-certificates is already the newest version (20230311ubuntu0.22.04.1).\n",
            "gnupg is already the newest version (2.2.27-3ubuntu2.1).\n",
            "gnupg set to manually installed.\n",
            "0 upgraded, 0 newly installed, 0 to remove and 51 not upgraded.\n",
            "-----BEGIN PGP PUBLIC KEY BLOCK-----\n",
            "\n",
            "mQINBFM+sY8BEADA70T+U0/2WNjOTLvytuXLvBC4vgA8hYvOaBS1cL3d8lu4mwr4\n",
            "W84/6p4v/mXle/0eIO2D2g+XfK72ZHZxpS+bb7yPxrkCDLGxwUd/khtTJHSbbKFo\n",
            "J73AsABflMe+8qv+E74+QTiXErTCNioFRz18sa0EvOnEAiokau6TZVYY2z9YjBNI\n",
            "yEjTi+z+g8c1RL6VmrFEpTicTpafOLbkRyw0VKnAKG7Ytp3Ksc1G9/IAoKw3Q9La\n",
            "0DJb5iX6hyB7+PNid6htK4LtPKZ2dNSrnRvNNkjj5BgcM2AT1hmxbzHNzIVmPoKA\n",
            "CQFrkdjog3/PcyjdtZG7cfoSDXrbIAZeAa2ngLv9C/DJatVDd6maPOe66gLo7+As\n",
            "ErMvO9vtiouqLdurW+Lhx0jFW9Ca3g1taLfbSDyS3X1mOGWcisbQvBqkIuoDQTeS\n",
            "V4Z04wrwTZ1HtweKG/s5fmPtZNGWVI5YNRLIwdmbGzFTMPu2XTAOd+xSK2H+46Kh\n",
            "Sh4kFeP6pBh5No4ET1MzIuDAHwl0J+mbWKPH4tIosYkcVmvEiNY5Ooq8v0I1svc3\n",
            "ZYndlXGnqlrICj6ftEf4Mxvl8ZWLD6svNCWF/r/a7CecPgVkcHwY+zBEany/Ndfk\n",
            "kA17mg5tEfksIXO/j71EdpKHdUKfysqOKgdkw0I6UGCScJlULy+jc2loTQARAQAB\n",
            "tCJEaXJrIEVkZGVsYnVldHRlbCA8ZWRkQGRlYmlhbi5vcmc+iEYEEBECAAYFAlM+\n",
            "tfoACgkQCZSR95Gw07dziACdEOBDnlXZm4Zjce4YeEKJD3e4SPsAn2SjogZ7NYAT\n",
            "zMjxcaLc7pBZ3ht+iEYEEBECAAYFAlQHRekACgkQFShl+2J8z5W7xQCgnggW4HDA\n",
            "2okBJug4eGNmrQ1LGccAnRTzYB/eEQGs3QxcMxJuSWJtkHAiiEYEEBEIAAYFAlNA\n",
            "KMIACgkQ2wQKE6PXubwz+QCfT1ef1nUaBWAC+x1y2ln4X/2R1T8AoMt4stwpK+C1\n",
            "sc/yy6WM0Asid+G7iEYEEBEIAAYFAlNcPjwACgkQebASZpNwHu/xRQCfQsq8U23p\n",
            "gVct+Au+p/VkqHMG618AnilNqrxGrA+QcsmKLenpz2qmhUuAiEYEEBEIAAYFAlSY\n",
            "jREACgkQMFbw70wtPvrQNACffFe0z0aDJLuSVwmvdSDjpuTqzkkAnR97tE15odhz\n",
            "BSFW8v+RlOYzRvH5iEYEEBEIAAYFAlSwNn8ACgkQS/29pmBF+x71/wCfTd74iN5X\n",
            "klyQDpgFhZSu3H9UiQwAnikNt8RuzOyEM2shM+TT9VBelCAaiQIcBBABAgAGBQJU\n",
            "C+BkAAoJEJzRfVgHwHE6PMwP/i+0r2zo2U5yDobYISwH+qyTlDOozZUpcLbAzmgd\n",
            "T9z4DB/LRfjvuM8kqxRGt4i1HtmWzO2mOznW/fay4V+zjKduENqOZ1LldJRwwcyB\n",
            "ohUD1d7hUmnS48J8+1UFqJ4Bwn5vQrSlNY0BrDaaOc3gokU6SaI6yodj5f6zjEWK\n",
            "lCiDSggCxFxV2FYCaZEt1/HRYV38K2UDjH9kPLa9or8/YpL+kHxOz+BKqaHEcP2O\n",
            "eRKn1216Q+WHBCIWE6aYnAT79nbwDR8AiRe5wAyuq3KzMcaqqrXDJdkO5elAGFSg\n",
            "1mB1qeIcS04esh9AUYXXkBgrQeZQ3YTzvDqRkXceLU2u/8RyUhNuR0HisY9lal12\n",
            "9sjeoiu9VYQE7rn4Pfgl/vcJp+Lo0i/fwIWmTO94cG8ait/5QLFroC1B6wjaCBwZ\n",
            "ytGnmAdJENQeQv/iZyCmygqCLw0Suqe2yh+XdM6AzEd9pZBH6gxMpz+8G0KX8F+e\n",
            "k9vkDzYFDnPUxrSRMkpXGAjSIG+mw/aHgVw2CyWlQ3ZkKHBn8UTChNni4Ms5VgwM\n",
            "NEzg8Qon60lDLtILX7b3MK2r3Rpilv2iZykGijZFMHT1PHOjQpW3zssaS3pqMUgZ\n",
            "TyJx33fPxQTJiT9tboaZEiyUYNYIBDfNFaHFU9k0ZrrxzGXiCIrx/BXfVBnWFMUp\n",
            "frIaiQIcBBABCAAGBQJTQCk2AAoJEMn8Qbj5jGbPYdcQAIKMzds2YKl9EusEpGPw\n",
            "vlaxCPOZ2koQno2zZEKmGg+vjAxwDIIrnQ2D7RDxXa7ed/id22saQ0JCYXAQGPh8\n",
            "gfaF1D0qDk0NnVzAnQbWfTeqvaP8MPx4lI1BQFvCdQVgwnThta4adBrgTX1nID64\n",
            "x1yi/9UVQrOKpFd9Xthieexbhjul5KjDUn4tTLucQDgrrbVHs2k4KS+MmPxL9nHQ\n",
            "W3XOD7y2+Z1sutxE7vxTKfl2ADFTF7HQ2bEdgQZmRnXStmPhu1lpDi74t9k7GI21\n",
            "Qlsr9GoxYIwIZ1q3MLBrCR590Gl6t2TMp1ZH0YTFTrm1C9fKZZDVngCcw74Auath\n",
            "galOkgBeyH8Ghy2ZBnhFjh/azmu8xWE6LPOemiYaYLWAv/PVJGSrgTdtswT7AMgm\n",
            "ytF3Z1suTLxec0yc7QaKDzyIikhTxw7qAcLz2bcC3DlWilfXWnsQmXrChVfGrv/R\n",
            "JntvN26PKwEIVZXf49w5cfOjuPj0dp9t2HIIkEm9KEF3xPbmeyWidJktMrXiDskg\n",
            "GNbu9HZtHyO2vAy3tQGlG/4/1++kkMwowDXC27zY1rMjCYtzVog7D4KaYx/IwT3H\n",
            "gj6ANDOiiNjnc6i2E91e312TeFyZdj68+8EXp3G0wlQm1WU8bddWm2m5Zbb3+s/b\n",
            "WZeT8QtspPsL6DLbW1P+YdXYiQIcBBABCAAGBQJTXD1cAAoJEFipIs3bXbCObugP\n",
            "/3lDWzkfQeDrmHUTO1TVkDxh7Exw54ob7Yn+n/Q/btkaDzuMVWglFCZBKaI3akXw\n",
            "ROmxTp2Re9Xir4brN4Izqfl6dfwP5fmslZkwSboKShHaHmHCf9Hn2C/5dY0rysqG\n",
            "MfczzaX1tWsGgY57hxF0Xik1ZQaeOEfgQ3Jd8XshznIUwA2Kk1tkZdGXrDG+wIbE\n",
            "L5S9ns98rzggg5KCKGXXWXCPEP5wZIoy+Trf/nO2eazW2i49xhdybH0cp4ipA7QA\n",
            "JKCekYxK3nY+P72E/joBFSD2bAes+pFwWsp03dh74FErzQ4EqO0GIXdFkfE/ZPYz\n",
            "L671lLHfXO0PHVhIqMXE2kq1mSgvPSF24w1rYmmC9gsFlH11GsilcJn9UjCzGuWr\n",
            "Ow0ZCUP6U1c87XZPdKt3QRTw/3yyjndXDbE2iQ3UvyJsioWv3cP+ET6HVIkoMsui\n",
            "XnuOpYqHOI8LJjoJSQiYAY0TxrgGrahHzuKXMsSnTEAt49LWilv5NGiXcvrbcqNu\n",
            "fDKnN2QS63ZuOnmi5otB4QsAx74Efy/76giYwdTLtP3AWTniiqbXdHIj9Cvxnhjp\n",
            "J5dFA+MMbNGM7jw9j/zep7JE7fPDRdlAhUn/nmtdaC3ze03tBcWD+9ez5W3i3hPL\n",
            "EltTvllfX9PS84WFmAhhWcmDYXd1wK4FxPbZfbRhm4MciQIcBBABCAAGBQJUlJjw\n",
            "AAoJEApQQvSXUQMcw+4P/jKffAptsSxH2rB6G7hROZDJFowGq5YcpONyC3/CQn2w\n",
            "HCqjTk9YaL0AXycvayqUm6fEjfNg+9org8XnhRyzY/+C67SHiDDjOLGrHOwxMdB+\n",
            "0yxZT7WkIBNO/qWzkpIGahho96TKKck1k9eHr7Xd0H6roQ59fXhyor5QRhVZNKYZ\n",
            "G7DGd4wNicWPiujyNhAii7LVaMta7+nIVvQwhS0sJROYZigPCSJKtNxPVMg8bDm2\n",
            "53JXCeRKWjjrtGlRfbCyheBqf33sANbzUZ6urxYvhGtusev+XUfT9qtCm/ZkcbCh\n",
            "0H92oe6S3RrZePmzwTOxTmKFXu6N798aee8H5orCwHpQ54knSu2yesAfBN78JKsy\n",
            "UdncSNg2x/+1T6Ya/hnhgnO9hJZJdK2wr+5IqWTLq+BIXAchhPUnszxzIEKn5Q3t\n",
            "i9DisflEELGDXQ/SNoWPIaG1cqG4m+98ndaNPqH934AdbXzcX8Rq6qE1zC5rgKcS\n",
            "Khzve0vVLkRrkbi9e/1dgwuORCSUeGAgScTuBWGeEoK3MLZiuZ+gM3D0jrCgbeYs\n",
            "aAKM8ouHsgIifwvxOENy8DqXkxbpwvq9zvvLF+cNMnVvmGWqwxMBXo0Le3CMQhE3\n",
            "hmpayPEDa0t8UsnA8qGXzfK0GCQX/3lAOWkZ4A3A5kRGLAyiiOj9gpwfrlFpRLDl\n",
            "iQIcBBABCAAGBQJUsDXwAAoJEL+ij4ufyK5zp6AQALSRMgYN8glULuXpUnnjOkrj\n",
            "7By5eAzixzemkbbfWjHg4YteBX8EZviaJi7dTu71rDEFWUiyux87diAY6KwUt9SS\n",
            "axQhQ4fOeAyP/ZfFforV9ZeD/hcpzVZc1/A93THJ/BWLG08bgh9sXanJLAQm6YU0\n",
            "hT4JgGv3y8yso9jHhlFFNkKK2lij/uea1Fa061XueTry8vn7g5oblm9v60s/zG+v\n",
            "jgksRbojMKYYF0j/dYF8gO32ZBDAnCSgWJb8HPbLwbcJDfAmT3wKuNXbCf+76wr/\n",
            "0LDZHXxJU5d7xhpbjO4W3FeGqHKwobk1Bcm13W6MT46femmabk9KrlBq2yNVdpyn\n",
            "IB8lmGSFcJodEulZM8YCHuSGxzy9wcQ+ScFtLRMxWbmqQhB0vj1UF1BQ0SxvkMd/\n",
            "IcyWATX4OERNdL0YvvSs/zAywIf6ku7dbMwWkXHYr0rwbibWGWBZNGFFMZzg49+B\n",
            "wFBKELxFAWgI1z37iLfwlcqNDfUVw2sb/r+6uVzPiWvhuRtZOIShatZfgwXBTSua\n",
            "l7fgRwVoIeLCHEEBSP5GX4zN4Ips3DN+tgOaxUYtXR+NVnb7tScgcMZFZfI2B/WI\n",
            "TfOw8LAvsV6hGzRh4xaWYuX0Q9OMd4EMm5GYzDELZ3zOyisv/SFHgxd4swJDHNbn\n",
            "BNU2Y2/TJRsMYXtBXJVPiQIzBBABCAAdFiEEfWrbdQ+RCFWJSEvmd8DHXntlCAgF\n",
            "AlitnkoACgkQd8DHXntlCAiwIA//TR5mF2eS7jNLnUpWAJaPfoOB+GKcIULo1czW\n",
            "MSRogTgB2uK/pvmg30KuP097P0pPRTRm9RMYYzfXwPj/DmU1qNonLc4Sduf8BKBX\n",
            "APTrszqNRVZma6ux01wtS9TQvSB4QfJ6jn+R2NrYXjGkOFrOh+DAeutS7xpW0rrN\n",
            "bJL4jYjUV1cDqeED/2Ur3miHxkUwFpYT9SkYm3uBdztqQKzdtYlZcUgN1qFu8zhH\n",
            "zE48cz6RGvFU3bQU6cvn6X0GG6oFR+i7In4BrR1xwyK22ZDJ5Ovf8WDGeR435SvH\n",
            "821rIocLN8Wmg64KjWwdW6p1QsI8NXz4a2oI2yk1q+bzX5xoEXLv6BS15yin+c7h\n",
            "BW0Ho4ORI7ugwBoLJJSx9wPyT5QQbo5IhapIwUsHAN13Ab+IokWNC5kQZYdde8GZ\n",
            "ksERDXG9TZdSEYNAxLcyU06bzQ+Flc0HcHB10kAwfIEcfuh/B29324dqSLaOWBTv\n",
            "LUgc1DDGU6dk6pwACJoQKYBLsDmrp4B3iq76hJL1NR6Mwg8lK5ius6ORjOl8neh9\n",
            "7e0KuSeL0QR1Gnq1FB80agv/KAB7k5VYVOL2oDtlwEKNHOU11A9S+c5Q78CsXWs2\n",
            "ECV5CGc2m+Aem0oJGXnq6ewejANHUXq2CeImFwQITjZ2dbykTf73Z1ZV/EP8yiEE\n",
            "5284/tOJAjsEEwECACUCGwMGCwkIBwMCBhUIAgkKCwQWAgMBAh4BAheABQJTPrNW\n",
            "AhkBAAoJEKFIn+KrmaIa0N8QAK3dhqGAn164EHI9c9XPlcSMePHqrLibIXQSN9Cp\n",
            "QCHGmeIoBBtpUrJlxKKvE+kdIYtysduMGT8dJlBjE1+LgXbF0jUrD7aRaDGAo2zX\n",
            "gnDiJmjaKrIcHuIm864O9iQcAeSz2tP9RlLoLQScgBCNJ+CaMXwlZwlLM3T4QNPt\n",
            "F7zvAiBinMwDV5iXxs9aVn4cE3+cs6lZ9XckYCHwDD1454sPqeK8nztnj0Z1exS6\n",
            "hnYzNBcjYcdLvTnyM4jM73BAl5etU3qwXtnqQ53BcIF4yNJygjZubIZQB8ZU7b4e\n",
            "NWZ4BrPWnxKagosKSrABcD8CBhoL9a4CACqmyF9Clc/rdTv0zJNk9Wr/L9qpcTP1\n",
            "bZBUTfY3zO5V/zWsIQhQxx8mLUs7yKj8rO1sg7crDxqXnOCSa6IB88X+EuU99ot3\n",
            "1C7WwknrR3mtUTW/8Vimh7eXEXU5e+91ahBFbq2mFKcrzfRTbDFqTPeCaXtNHFRq\n",
            "Z4ktnJTRN6FVMP/RJfzRORcVBfKPT2lb1fmgAXeSc0su4N61tIl+4jbs1/7bCHwz\n",
            "zWscEKTsThKGY8WqY+DfzY6eyny0SPD/nPQd2bXwTiTXFeuF0jKeN/LN2sG8tl10\n",
            "Z+6qnwHYx/65MpHN2SVrYnMA3S3iFhfc8IYOIjU4ZktdJOh3JIrHGxMEE5BC94nA\n",
            "1gKeiQI4BBMBAgAiBQJTPrGPAhsDBgsJCAcDAgYVCAIJCgsEFgIDAQIeAQIXgAAK\n",
            "CRChSJ/iq5miGlpPD/9+AUE+hDYD1dfL9a5Iz4yNGjBM+LUCbx4zSbU9Xa4RcXPL\n",
            "5PoYXmzWV8jx5Z0IMMFt+nYOeSHW/52BeD2U+W7otie1J8YV+7AUmjXtopzKsWWB\n",
            "A/BTZ33AVdw3jmmxIy3+4RrK54DDp3FMmadeshUrOmgN0mVAuXE5bQbA9lQOx+QP\n",
            "ImmoRH4HCL+Eg1qVbeEXWK2fTPNZUwogPd5gUc6L+BDT00PibL+L4z5K5cmnBRVP\n",
            "/gIrmBYWkfkYIICym+cSZ+nVfmY2OUL/VyuwIBGBnx58mbDxisEl2i5hmRGevTrR\n",
            "/M5xzjqxucrKrVv6drQCHkYy/X0bSScShv2M2Jbb5puEZedkZaogUeEozsdmh3pO\n",
            "4WxCw7BrXmP7Fug4dogb8djvmLqNcJ0F47FCNOeYb7hKi8NbWcQwMdCEUb6212J4\n",
            "rjQWNDC8nf0iU32K2F/DXrlJeSMzCXeWhz8XoyqbBbdFC3VhyDiXybZEceYKdmYH\n",
            "xBbEpKeIeeLPsB/LOj5EJJEz+dJXB7w8jeFjqTCQa65PNU9AF3+P0yp6sqki8rBv\n",
            "6WX68UvUuSFOarPYxG1vpaEnMiTVdJ9J1e78eXz9hEHKTigFJ4CAMQ8qgp2RTesq\n",
            "p80tBjmDqAcL9yovtVC2iXVC9zJLbI0IX6OHa0uDIpjWJ2YMhty018gqm0ezeokC\n",
            "MwQQAQgAHRYhBAu+7vBk6Uq+hDJYtHVBz6r8NerPBQJZ4DXKAAoJEHVBz6r8NerP\n",
            "34gP/iLqLDAzMRGGFQ4UDf17eRF3WsYcnSttwv9Pn7xQ3fWrhrKhGGGTNfaKQT4w\n",
            "N3DTAojKlqHPdBkamsGbNWYlHsY3b/3Z/NRc+ZnRxVyFwHC9s7Amitk+FWohbFR3\n",
            "goqQazZGIootMGxZYaP7806ePdTCmCmTCriP9KMxvA8WlLISWUYl/JILkWgdaPCP\n",
            "ZHXWYAI8zNWegoM6eKcu3WFSDxFNBQr18djU9z2X92hjwVsgJgO4V16MLMbqCs1x\n",
            "zLQELxau5UxRPSdVgwhtfuNuZX1z7ME4qhoaHMESMPjoWWYAc8pJaQ7nbVDq37G8\n",
            "aYuXLZ0ZWJ/cyX06Hic7e7n6qtp5uZvdHpfOHKAY+TnDlY5o0YSY0eg7vljF+s5s\n",
            "4vfdulcs3slze8M8hdrZIuaMqxYr3QFZf0qPHmERRsf0nwziEfGYesogkd2k3tqJ\n",
            "CNK7yMzbozIlRXzR1gutBTTibbRhf+cFMv4a6m/mIRG34q3gxm9hTHxzQ/PF/6Vy\n",
            "2nktsTphZhMUczD4q8B2Fix5pwtYkJ317JvifJWOmR349LdhV75PCkLgf1ZxapZ0\n",
            "rPFRLCaS1F3dxATvIE4j/dp29I2Fi2SCdezoxezyo1tFNH+azIrn3ghpt7UHpYU5\n",
            "OfInicz2uhFefpr6WXBQh0v7pTrhe0+PmSbvNzHeA87I/9xKtClEaXJrIEVkZGVs\n",
            "YnVldHRlbCA8ZGlya0BlZGRlbGJ1ZXR0ZWwuY29tPohGBBARAgAGBQJTPrX6AAoJ\n",
            "EAmUkfeRsNO3nqEAniiIKQu/J1AsO0YUxmgkheGB8FZ6AJ94wbyyGR8zIeUbd9Yx\n",
            "nKH+33r2eYhGBBARAgAGBQJUB0XpAAoJEBUoZftifM+Vz6YAoNTFx0NutNCCWlwY\n",
            "kpryxQYZMaz6AJ4qoAqF2aR/rYAZDX9XbfS1MbWzbIhGBBARCAAGBQJTQCjCAAoJ\n",
            "ENsEChOj17m8Xw4AoJeCs29fZJRPmdYMfyo2QwH05CsGAJ9P/Z4uonpZmfYSHE6Y\n",
            "/Fz/TmABM4hGBBARCAAGBQJTXD48AAoJEHmwEmaTcB7v0xIAn0vQ6kUbO9I7yRL4\n",
            "HyocEx+Ys8oIAKCA/3IZAbR6O+7hopFaqTa7/ehehohGBBARCAAGBQJUmI0RAAoJ\n",
            "EDBW8O9MLT76PikAoJIH+B1cXiIQ3rB1IMiSlvrilLboAKCRMXvo4kMmhIz6TL+8\n",
            "ks9AHD8a74hGBBARCAAGBQJUsDZ/AAoJEEv9vaZgRfseotkAn0pXDU9vXb1JLY82\n",
            "oTdI6MMICzXAAJ0dO2AXGhmQK51zfNhRTRqCPXIDqIkCHAQQAQIABgUCVAvgZAAK\n",
            "CRCc0X1YB8BxOmoAD/0boRAyefgxAuNihPCeWoLcTAicGAySm0GNgdROAAX5OTvT\n",
            "Ii3ATW4enqPRrLK+FARI42xvWcM8ekjt10vmA8XkzgAGC3jluHICAjprvcBpONHR\n",
            "yz2Bc7/qAqFP0ErrxqVuSyoNRlAtd7iOSMnDeT6ulCAMQtVKjZ5xcEnbEYokac1I\n",
            "0O1JGWDM9eHJd77ehmGcLNOBzOztwcSZ3pyS9FvjaJRM6ngv3qZluR0BR+FxOgsY\n",
            "NbjXtv/9ER1xg8f8psAAI5BArmBbPzFaEy8sEvOD5YxFZ8dI093AgeTqvmIyqEYA\n",
            "hVx20sBOnLlOinwx5njXRNt8NpSfs3yPU2NTbxVeCY+CFFqF5VCikRYTi95GQVep\n",
            "/gbZFYIUDAKzqwIMTAQ2KoaIbtExIHnzBDGVgiu1ANcMjWouoUgZzOTwXQSFO0wk\n",
            "OvxnaIpf0pPfQ+yuR+oN3U5ma3JYFgrxF0RzqCiZxlT2jZCAcciNlU/uPwvKQ4He\n",
            "6IfLMV6YZWM2TioltwHXbKhxZRSyOLQpXK5tHRGjZUDMoGy4GITnKaUCEIf8xVR5\n",
            "V8nrt/T+CSFJSG41Uq87WQvnj9tlA7gcAwyzzGLiQ2hAAJuVEakP/C8APpheG6wo\n",
            "S/NN5tcNJkvoO3ObTriAMAuoTvcaemGnaSTZP8m4dvTYQM3D9dQTyC2J11Vu+IkC\n",
            "HAQQAQgABgUCU0ApNgAKCRDJ/EG4+Yxmz/seD/45LVeLYZV/Zv9flkDEZTUz5872\n",
            "1Z0CQROL204dbZx/hGdLpDgQolPRgfd0klO2vW48jsn1y/F3wXwgGsaSia0tGcZR\n",
            "UsiPSTdvO26ZcncUBiZ8MF/Wq4foao5rhEhFQg07O2bAcDJpGWe2MoRE4WhxWp4V\n",
            "a3BoGMNPs+tNPFyGlZqtFxtPENG/HVckKKECnjkK9y1uJDqtvCVWca6YJPrXRj3x\n",
            "tj+TqZB7rmnX4yMHjKVankou6dlR0/1/Jvk+/u7R1AoPw7qYMzEi37QjI03EAsOr\n",
            "lgKq1YIvY/Wr5L3A6Cdbm9GzIL/D34J8rD1il10qDG8oj5CIR/7IyDQigb8b8H88\n",
            "6Ow11g/pTd/3ip5A9A/7rhJfo27HrlsIynZvxLoChBXEJquAjUtCm5MEactaCFp9\n",
            "deeeWbvJK/mIcyYKvfRTGiNkpcQmjqGTOFxoPOXmLA5qYVvFKonr8yMzkPL1eP2r\n",
            "tfIV5yKeWP2P0L9RX3ljVmVMwI6JmvPj8j45x7dqjxr1TURxmCUU07boYUE8ZnoH\n",
            "mi2H4xjB5u2EX1arsCCLCkSvGeD7eoBQejhKpyy3+5gz4JO4nMKJOtHZf+LCAmvc\n",
            "FXgB84kp83D54dHb6ENdI4cGgEcYy4ffccxsnzQeP16OXrciVuoWVjl7whHodjxV\n",
            "BpAEvrFNFQN4u1tHPokCHAQQAQgABgUCU1w9XAAKCRBYqSLN212wjjhtEACDek79\n",
            "4Ek3D7YuLBHVqcuOawv46KGRRTte3RecMTX8qeSiIBOHR7BX+8P7qRlXgHXytxiV\n",
            "N5o86CIyHaekqd9xXz30FOG1c5q6MYsxXEWf/9rdhbkgvG16CQ0AN+PqpJ5b3dAG\n",
            "ItjmiDw89UdCz0a0Cl+ieXJgPUKPzrLFpXFfoBUp0oA86pKbjzfaNRW+kkYqeC1k\n",
            "tvhjtNK08jH+19WbCQl57S9RP0Mug7fsivxBNTMZDVA6/pNJawaSwX7+CQgBXsHB\n",
            "D1jbUY8UMFOEQrRzBrwlnnhV9pL9O2o0nObFFC7nwlkKpSujYO4nr05NB5W88rpY\n",
            "ENtOfvnyxn9AOr/QHOxIHzVqMZnMXMzRC088fxHF7rWJV8eYICWoOIPxNSConp04\n",
            "izswjO+5UGP8ZvHuZ7zEmx6R5RZcvwodyXRouRpahr9G9UaHT5srNSyt3d9bQwRM\n",
            "GXhQ4X8BFyHk34x1FWFh8qcE1oZEWZp4htYNCa0nLaEabxIZK1Yzcpq73i8Eq15D\n",
            "FaH7mGlc1UXsFhgrBwnQUcr5NG5q8NwgA5Y7DKKM1YEbquMB78jeYmHeo3pMpZNA\n",
            "OwiWWqD9JfVycoWS0M3Ak27w5nuBNNUbLf8sMkggVcEkyNuXWEYb3yBuBMz/oUWL\n",
            "58jJRDbrRxwJsLMEbQVDt+oJbSZf9os7FWJfJ4kCHAQQAQgABgUCVJSY8AAKCRAK\n",
            "UEL0l1EDHOsvD/4not6qVWOfeg2jzQw8qM9jQDjre60rs/JkuIztcMAG/TvLgKa1\n",
            "mL6Siidwzdt5wLDYfT56whkH1s2t8VGBx60zgQd7oqsyg+kf1I0u54Q5eHjFT30U\n",
            "BtDmN0sklitdsFASlhx979VVV5IOeT/d0PnqxnLj++dYomjeD3ie+SbydXzN/u8y\n",
            "TCzM0pCEXyO1QBZXwG7XDtmbmVCxMOhisCeGPL/dwGyF3m6LqNxDmacrXLfkZSNO\n",
            "EgsFBqJX/R8dNdICNHQAbicrm6/RTrypC+KmZtvoMT+pXhoKSg2tnTkOTeLpw9bE\n",
            "dSNi2yrz9PZ6R6YdBVI/2n0M9eqEzXqIy8/7en+rp82/NlCCod54ehDoZRyJrzIz\n",
            "4AhBp2DgbMmu9RYY44yZEx6w0FBLJY03ro39QJYtyE7AawYQwA9IHVakhTtr6CdA\n",
            "vqKHSLI24IazmpPySuPpaomqeGIX0Xw6FTKEUMv9ZV+8w1LPcURyUumsyUezw6JN\n",
            "8V/0CRVXUdfY5KpMTQLL3JeMVgYKxR3vA2ReJ8yMBe7Vfd/Fn2N2mB06eo8vCZJu\n",
            "/Mb5LGe36cYZJ9z1jzKydanyFqWhBRSCVV5sa9HmeVQEJTds5jW8uDg4YLDiBt5F\n",
            "M6Six7KBzJBQ5u4bu67NquHSud09jFXlY2yWT0PebqpuYwB1VlwA7sdB+4kCHAQQ\n",
            "AQgABgUCVLA18AAKCRC/oo+Ln8iuc9dXEADK3B03hrv1+MMscnKIl7iXLc4rsbO6\n",
            "R7Vc7ivyCG4R+DVRe/kfaKQfyAey9xqtTxYJ9ysBQ8egNfvgoLVd9a0y5v1q426S\n",
            "vvdRfCAFsNLZoeuWkMvl8FavlFz/aGpPNVHfnL8UmqVHax4WMaOHdiOO2k/HkMgf\n",
            "rHhj6thmQJLxpTRIwDGO8oigh9g1kgQNq01Olb8A9TY8HUVJXvvHg9E1NwRFzxd4\n",
            "zsinIR4Hjh7s4qxWCwdKKLKCDBp1mCu5gypR+t71LDAZh0rDP9DA2BhoUUHGyJcN\n",
            "cZGrw4+gjMmXd6Wf6LTuQ3GvXaV9ASbaJKPmYBF2xjwpmNabXd9YTRzCNOJCgRWh\n",
            "M4Yi+H4gQkh0DV3nFXNZ1E1sawXI29lyEu6vW20y4Lz4mkuMP5maAukK/hrpC9iP\n",
            "GkZrpsSwblS7U+/yB6YxR2neISboAenPeRUShHc3hVhU0kjYfio0omFZ8GlrxNQl\n",
            "Z3G0qGOM7JxTCFDxHxjMvP17sR05i09b61MOqzPk3ob8bxGiHz4xc0mnyY4UFgQ8\n",
            "jWecPsX4FfwtuTTAY9BJDAkLAkZPNinRzz6pUOfiWg6soxJke/RfQma3Xd80o1P9\n",
            "FdhHUd0HWbLUsYXEtg6ZS5seVzw8Gkg1ZAt2pqZCjKq26SA/bCamty19pZ+Fd/2Z\n",
            "P79REnHHP+iRQYkCMwQQAQgAHRYhBH1q23UPkQhViUhL5nfAx157ZQgIBQJYrZ5N\n",
            "AAoJEHfAx157ZQgIkxMP/iHT7ZAwXuF+l6Mej8NBxwEoZO0U/rjRDEswDKVr1KbZ\n",
            "loKmniz89wNVEfF5maOFOT7aJrJWURW1SD4Q7kJt5NAzih8E6iE8fSCMxKeOa9/r\n",
            "ZOfZauro4ew1p1d4Wv4l25FaEHQqmfWNJlyc9QFT3CIpBwDv4cfnGQzoivMmXE+l\n",
            "QJx8z6SaG7Wjib70GcvonPfCSaleOUI02dXbV33wM46lYGL9WsEgecITYvgqGwec\n",
            "aLIXQQPKIa9icN4bwZYLH5jh46+8FDfz5sXH4huKouyxXoAE8h9DJHB5zrXKRpI0\n",
            "dKr7zmVV1Ph+6XhbxzqZAltEDzdi6luj+nugq8tGhluYi9QqWJookWt30C9NZGW6\n",
            "d/IyEHqJaQG0RCHCBLkyUCWgRbmz019aPlgcdLqOwEFKKgQO8qlyzFMOU/GlgxTs\n",
            "rFSEMAJLBvdELIW/w25nLVY6FHTpnB/Smityc72PXATO3ZkAchgDi3hFwVB86rVe\n",
            "kCVxOEdolD3ujtl2ZC9Hi9/DSwrjdl+eokddwsD5QuFk2jhNYBG5c3a3x3diMINF\n",
            "E9f0hNgtMl1OlSvrFgvBRsfqQAnh3nMhK2yQgfhO0Y5tuwVTIrlCLzE6i7nlrUF8\n",
            "QiJc5iK7t1BaNn0tJ00ik5piiAnWuyjxkTJNh/wLoHZRohpzIceLKJ1i3kZFvTt7\n",
            "iQI4BBMBAgAiBQJTPrL9AhsDBgsJCAcDAgYVCAIJCgsEFgIDAQIeAQIXgAAKCRCh\n",
            "SJ/iq5miGjoWD/9R4isVKrZ6k7XIAgRNUJofiZdg2x1NwaJ5xCcdvbh45IqZAnQg\n",
            "s+v4y4wZ04yEAaOQwUQoKw8Y91c8zAOD5aA1qB+mjv6CMrh8IzdGeuKRporMKY+s\n",
            "XBMnTDCNi/Kmlv+ux/bu7qavmXZCPswziPhJT7vuJY27ymnAXL6ZVAD1hUvaGU8x\n",
            "Zx2Y0bfd4IvNGkHxBGe26/ngns5KyRBXBeQmdxZqBvsu6fxafOQzl4p1ni9xMXg/\n",
            "p5MUJqylmFvzXaekrB7Dnr2fTGQh8xIYfaorDzP1GYWBp7pw70NWFKpt+TGaUg/3\n",
            "9rd5Z//pKFnx/VuaGDe5gaJyP7citptv73JHsocIZGipat/ouLp1trdORYHWn+/L\n",
            "ZTGl/g5IqafNAkUuL7XxrievmhyOfpi+UE6NBdIoJ6zATKwEd0x3hKBQjZJ0r9nL\n",
            "YL3tqKymTZa2Ohe1dIxoan5E77SnDKWWAlz0NjzpvOrCWB1uSBQfAp9ZY5HPAUhx\n",
            "48IvbfYYlR6KWckqhqg6C9lBXS3DaKhvIal1y5SQLEdJGK57/sXPMmdulIlNnpP1\n",
            "5EP/Yea3OQ+J/469MEpTD8oMyrVCMQ3tlimxWCyeFMyDVeDt6TjBOIeZ7Aobtkqg\n",
            "rDUbmL4z1WJxGbjsD2Gv0chBohvSoe+MnWnN+8biR3tyT3VosYNXVkjULYkCMwQQ\n",
            "AQgAHRYhBAu+7vBk6Uq+hDJYtHVBz6r8NerPBQJZ4DXKAAoJEHVBz6r8NerPtfsQ\n",
            "AJRE5F2wop4UM9JQIEJu77tiVePm8k59n8N1p0FKplmqraZDy4Rb4IKLsLxkQEVt\n",
            "58SgjmUkFnBjwpVDXiKw3ofgwAqaRWeotXVhrfOl746UbAeJ27hALxQqvidcM5bP\n",
            "UAit3BVi1PkpWOGSK+3r2yIRFzb5Os/ac0LQW+RHB3YCHR7z4qDsr8zeRPEoXKbM\n",
            "9xykKCXpQjq5RFq6sVYSufIqeWEW99h3VzTmLZwUPs1Mx+52+upernVJxWDHOwRj\n",
            "zKFA+Rg4zJvdxIFrbedzn2HZiQv0HmNmKtnk6T2lmHjJOuiaMGq9VF26QVNu1a4v\n",
            "q82ocUTx97vuio+Yhfv5t+hU1VQmWLO9S3j/TZD9GguxS12W/eceSVV8xPUgRXpA\n",
            "E4QGCm2NhWPl/qsYFUZAY0HRU2r8IVxZAcDmrjug5IyWY5ZJYugY2MayErrfv56X\n",
            "yBPxb0LWU2YFGOSE2HfXzkU0yxsXq7M5O2muxNwsoDOH+w/3R2BdduFkCoKB/88L\n",
            "VApmwFmpYEFc7JIfUXLBzDTdER8laiLaqL7FLRbjvoW8WU+y9F7c3m868hMCc/x4\n",
            "Gj4vIWJU1hHK6IdmNEPVqGXjgGJfpI5TZJ5mefRUO3DOEC7fBU9gENVEGX4VykPb\n",
            "vF5fFCc2uqEubPO1OZuQLbYd+JX2vA/Yf4NXArtyHNcntDNEaXJrIEVkZGVsYnVl\n",
            "dHRlbCA8ZGlyay5lZGRlbGJ1ZXR0ZWxAUi1Qcm9qZWN0Lm9yZz6IRgQQEQIABgUC\n",
            "Uz61+gAKCRAJlJH3kbDTt7+2AJ9OEkhet/biKHOezN5M313KVEn46gCgkXKJCmSL\n",
            "VXmEhT72GGnzKAI77G6IRgQQEQIABgUCVAdF6QAKCRAVKGX7YnzPld+RAJ0YK/Aa\n",
            "nyx9oA/p9T1/vFWJO6t8IQCfa/bODo20GJMcU9zmbkhg7+k/JpiIRgQQEQgABgUC\n",
            "U0AowgAKCRDbBAoTo9e5vFPgAJkBBjr3n22bSRVQn0GbabCN6DIAagCeJfrmELMA\n",
            "kh+1QgcSJ/A28qgnuFaIRgQQEQgABgUCU1w+PAAKCRB5sBJmk3Ae74u7AJ9u+ydE\n",
            "L4iYQKsHILpzdAzayh2u8gCeO/CxVx7HGOD+PboLoUwuasnZif2IRgQQEQgABgUC\n",
            "VJiNEQAKCRAwVvDvTC0++gvMAJ90k6EAoVqxCeskmFL7AQswEGMNuQCgu4VrwlIr\n",
            "jDVAKaaULjngfr/K8zmIRgQQEQgABgUCVLA2fwAKCRBL/b2mYEX7Hg8HAKCARWiy\n",
            "7Q7c2aA8D3BqBkbfHOuUTACgiM+6LeFn7EZdpVifZgimmpGwwTSJAhsEEAEIAAYF\n",
            "AlNcPVwACgkQWKkizdtdsI4ucQ/4peEf2FkMJ9xSrenLTOSiVs5Xy2+72KdPzP3y\n",
            "WMBmeWDtlAc+iQxsShFGd+jna7jT5Lmg1asj4aMiyrjWxVqQkjukZRfB6wLYNy9/\n",
            "vheVaS5VH1ydokVsXQgxK8YWc4dVuq2/0HdqWfDFHjSB+xOVDZDMksbRa2JNfSmU\n",
            "G0U620JZcaAp5k/zI79kTgNcGzFSkWLwlcaO56pUplu/biM8hWuho0lEcSaPIr4P\n",
            "tNGowESlyuQtFCQnew9Pb2Lm2nb8otPrC6BxQTBLhtqtsu1DFmBFuz8Sqcde/u7f\n",
            "cbF3q4w+GOWEuGU37PUYPW0HcSDMNZbKVia7Re8O6zPYkpe61IXQnUJOWaMAgsGh\n",
            "hqVY9KXehXMnQ+iOhw25ajnnU+szElTSzwB7aGuwxxioKqoRu4HyDx3b/ANtBYt7\n",
            "kH8VzsE2u3Hhpo6iat1CWo8q8PgzLhKCiw0CZ/CkeJQQ9yaC5v73nooOm9sut20Q\n",
            "zPO/fFJmfsI/fW4k6ZNZOzfRhJwtDykBPQHFoBwWb53oVwFMGekgQs3mJHtfT77f\n",
            "rRANvJHskgYBgUV3ClCcyh05LMXlzAb21l77gM/pXjTxqrIkAkBVo/9xUzK3Z1Ek\n",
            "uytK1lEW2RScpCo+J/Ie9wYDXSso3Duj5byqYJmMNoHSe8RL8auukU4JTIZMy7AG\n",
            "H7O4e4kCHAQQAQIABgUCVAvgZAAKCRCc0X1YB8BxOlglD/9gaSbmDW/rIVl0WJcm\n",
            "cKyia8GZBm6xCWCxtoMbS20FBjdt9IGJAqPDUbtarKYznpnt5llUxfA+TciGVmBC\n",
            "s8T32Ad5jLawLIWKhpbudGR3cN67DrknJa+xiPML82Yf0K0UaVzfzT5cfhoFMGUV\n",
            "H2V/fNJUbzck8yBqflhpcuTEc4a0XpylKtiwCQuqif2wWtvAnPA/M/9PrNZN4XJT\n",
            "aDBQbEALwLAeK6grMb6v+cDLSKPh+LB5MD/F7HggWFU9XQnTRbXsUCs1+K2EAVcL\n",
            "uasv8vG/f7QeT4fdgYE0bwTDFa9BFufS12y/KRxX6RVSXvGOF2kCCyUTqZzBM1s6\n",
            "C09sXrKX4pauQdARpfhESHg5a4V87kMd9h3g1f6CSCv/IR3gCTkCerEQ3kevwgwo\n",
            "q7b7wrfOlc35Y752bd8JVM3/tODLfRWDbpmuPC8N19MnSWAFkP/NDBMi0psTUXTH\n",
            "C+eMgWaYEzuCs0d7xC22mKp0SR8/6sBeraK6UGc5YHqPRoYCFli1eaRM7mvCZLth\n",
            "gfLhTeRTMTaOzeEhgnjBvLRJrKi51GFZs+bVwXqPRKMA7eYLV7sUafHi6VfWAioM\n",
            "kw4vpxgtHoOvXT9BJZr9HzYXY+zVTUw3nKQ/5empcb6DeQdwJEfdsn/Hm36wDmJZ\n",
            "s8h9CLXzfSWX9TWJgoOMAcDrc4kCHAQQAQgABgUCU0ApNgAKCRDJ/EG4+Yxmz9eC\n",
            "EACwH5Dh9rcYNV7sGlzrm4QHyHwXvdsLhSGmIi+cbgMulph+MXZwCQnX2GFYNhxe\n",
            "v3mjQlGIF0NaC+94HSBgrrzlReI/uNhL93gO28UbR+FF0ItysPHO1hhIZaAGuWdR\n",
            "JracQntZOXjHSX/+l9VQLtOlUg+skqbk4RIK1FnGemkZYM7Yjq4xkvihcNR0zKYk\n",
            "chREKvEUWujJ+/4yH5y0q6qyDsUlsEWo8vJIU+Rxxm2XRYBniZFC7kFCNIp/euh6\n",
            "fBCCMaM1gMA/TkF7F7iLLN25p2CBLGT7kwRszFitzHrTZjO2Wl9R5OFh+/O2bQ3z\n",
            "MH13Ef/tp5iihy+gWiuIhnvZTeY+xU3S4PqGCvi+e+aLw3cZ1IJCZg1MQK2oL7er\n",
            "kRmDXkt6EP2z+VZzmbU/2TTc/5CgPeqtgzBkKFtvNCTyV15sv7R3/RXw58ylq3Ai\n",
            "Kk1cSfEAWMSy2+OPa+TbiEfklunW8WxUsjuChv5n7FE2JTSHwSKGArS8jYbUYJ/+\n",
            "lnzr8Ko/2DCyYbkhuid4u0DBEL7VeSNuskirqpJqQV7/MBxLL2pbVH6wVyBYpRMY\n",
            "gBNFMUDJ8oE17ESTqmmc0rP5EJCQwBOUUrsDXI/8wNJdFpngXei4V9q6j2BXhZnA\n",
            "TGageKB0+lchm1iQiU+aVIQGkqJWQqT96j4L9PiUCDqXkokCHAQQAQgABgUCVJSY\n",
            "8AAKCRAKUEL0l1EDHEgJD/4rPO6/4d99lUxVesi/5qSozB/7UCeFyPIQXDU8QqOC\n",
            "JAQ1qutPWbVdXpIPq6Tk8rHVxYF7T4Lds3CAs0DjLdlB43QEpGYup+hRwBQdsIYx\n",
            "FL0KqPZ2qmcsus/ZMbvqffiuRj5wPCQ1Rgf3eIRkrXVWohuRk1XVLlXSRYLzWx1F\n",
            "mgBLBaRKxMxRaU87Z8ngA8ESwnD+kKCAM8mN2vdIOUYGzDTjzZeBi4BQWJBJa+RK\n",
            "9geAlv0DWd9mASKiegvL9Rh333DuVkEm62m1oeTiSgqDgnhBiGPjMXvxVNeBYUys\n",
            "j/u/4EA0K+zvg7QNjiYFENaWyPUR3p02JDbv4GVj8gh4Mt+11yYaycsV7XgqQvJO\n",
            "CxoHjjAQR07lWUi5L2YicsafnUJf5om5aRrg51G3bpa4Y6zbnrDl/EfVapV1Athf\n",
            "0JnnLbTo7rD5wRG+8RSmWfTtVOdl+6C+6B33XfRVpqh+5ui59gUUM1scesgxez0U\n",
            "mBRDWde5xohRvU8YwGZJl4VPyCM6BY8eFIwno0PcRVs+8p1HK6bQB6FPjYJNJYLP\n",
            "fGfsx/OSpoa56Bh53nsq+1HEESIdwvfKVO/7rFQzxM2ijbHCOkhK0FPNgyrh0JCH\n",
            "56j/97My3oeafw/HtT0jmIaQkP7VEnlhHC0DhIdmNyz1gzATglWZlNeWlqX3ctdJ\n",
            "YYkCHAQQAQgABgUCVLA18AAKCRC/oo+Ln8iuc+MPD/9BMqf7LWf9sCabDhOSXfql\n",
            "EFzXWwWrrPCXkUL/KK1kHf9BVbDY0lr47rDRXP3q/uIV/WDOXZ2sbZdS4VRKyshN\n",
            "Rzz/XK9W6/wbfyidemD3bJdd3wqH80XRz2qc5yThTme3fLuBg/bjdrlht4Oh7Lsh\n",
            "R0oXOh9a1CijWtdflL/IRMOzQJnqHhqRjLUduM1NrhSbrEecH9MOSJlFoRVeyI7+\n",
            "yIikOCyOlEuLLq1CeZiydhQpoetGKOnwzpfUmm/B/jnxczoe7dS1PqVxPVZAz6Jy\n",
            "Kcu8xqaJtuzrES4eAS7vz2bMAqnkhx3yOa7BNQ8ZF0KRdQmanpefNR7LVfGYgZxl\n",
            "DspO/D2tGZIXuAHauztviRkW1ZqE8opxvUjVEkyj/yOAzApuH/lU/+nLQO2MScvL\n",
            "HXd5C2TmHAFXjXzLfCoZPLGZC9VUJh04rLbaHZn3lPw5xm1HRCYBf7+5V+ojp9JU\n",
            "BrcnUbRAvC0lN5Fi3KGIqnIBwRk9lEzaD/izmxmcUa516ZPXPkiBxDE/3nWs6lI2\n",
            "UgINl9WPWVQGjxptDu7uu4mApiLG2MIAijYP2N9wUrZJ8g5hWKiO+2ovoMBLtPB8\n",
            "T/tUGGTRACZ80HJo2Z0Zc8yqDR+VkINq92XAUb9mVV0j94qNNOjMiEEhyBgzQ3c0\n",
            "Dfcl4bHQzb8nO6+Xy9zo4YkCMwQQAQgAHRYhBH1q23UPkQhViUhL5nfAx157ZQgI\n",
            "BQJYrZ5OAAoJEHfAx157ZQgIytoP/1aDfUhxWNDxMSAw/Vaxlo6okJ5FmXCbTCyH\n",
            "IJicy24HMpMdJhshSl2lYLe45W0oHdeTet3ZkBVC9sHqr8ESzQBySwG43USH+m+y\n",
            "m1gDp6c2D8zrSvpKihaFez//oJ/7rIXitlEv0S9jO1w29OfsKL8ONc4np3VrXR1k\n",
            "9JsyZoPy2vrRkseS9ZIWXidk5AVBM3yoDaTCyvSPlQ+n5FOAjIXJLJkfHuWsrkej\n",
            "PJr97Rs+7sTZnZWT+3V8hmYpQfepqkFLiMhKLVuBkqRS4ncdvBns3hI1dd+nbS4p\n",
            "XEOaBSW+TDw/JE9COfbnbPjNAqYHZ5FGTr1PwEAmIHYvE02KdyhsElKjmjJohdzL\n",
            "9OYr9v17yuyo3c6Seyk6JCvap5tHqRvjcjwJo5ZHYew37MBZ+pnDpqHlv/D0p6zV\n",
            "S7Mp4HcfjiguDO4SDUNKwtEvcrLC3UWwfF/eUeAa4QKQhiTKXDsYdkYRZ8CW840D\n",
            "VJfxtutsmI98dlmz2nBTgyNxpueWIGLZAg6X+g83boGHJRBdDPfN90ggaIUG/eYS\n",
            "zyhlvpTCw2HkEv6yx5EiSpnUy64nznVdbhzwxYPCaoCZhSicMx8LT7vp/y3UX97o\n",
            "gpv7xXjFrz8Y+ueGfYbHOnm+bOomhHVGfnSzezFg8YcyLeEA68UIO3d7KUmfH7sD\n",
            "dcflJjfTiQI4BBMBAgAiBQJTPrMcAhsDBgsJCAcDAgYVCAIJCgsEFgIDAQIeAQIX\n",
            "gAAKCRChSJ/iq5miGnlTEACtqRHgpTGN36HB0sNzG21jpLSpVdnRNYtsxyTFuNRz\n",
            "Yoi0sjRQVUcvgqNb129f4HvLQIC1ysVitLQRSd2aIyLa0xTFqG7PTbbdVIaJIGiG\n",
            "8MWA0wHdcW5YTf6DFMr3dCHGKKkIdJGi0M4z1Ge3TuMFiMm0J5y9yQ500xJvXBF4\n",
            "7F1q7WYYi1tEus6IatU/77qLKhXBs+9iPWs2ix4Hxr0T8YM82ujMhvdwXHk/X+g4\n",
            "JVsG/b9g5tvYP6vNZWA3OOaGJZoT0ZIP2/Aa+XZqlyCZmS2wm5Hu52rNtqJ1KUeI\n",
            "a2oOFnIke09pM337Cis3XK45ZyRSrbxFPxNHPIJugvDu9bMQ1wwaDpYN2ceFFOzy\n",
            "5sWXGVsHqf2p0nGhTkRTpzLP4IMzNf2pB4Vx8fbS+w0Bj3o7EJSm09daGdrFs66/\n",
            "x/VLYudOryv/rjLVXzYsCCe3GoHKmEr29ZZKQcmOv4JAbw0BmtkAAN1+mrL9X2Zr\n",
            "U3d7JHtjsqwCKTuluRMmmShgoNtWh4SCIitwwb3J5FLva93oodup6MHqqzQ8lkl5\n",
            "PIAGhbZhYLW+SaK5/IdQzAl4FDCCGK4/4369YvpK6RfhUAdWG/HsJVQXdTKuJfCl\n",
            "GXmDeuUwXZDFEXeeSjCvd5RZ4UA3I/Yk6TktEhZT2Zh3FrLQZFhLfwaETvE3x6rg\n",
            "rYkCMwQQAQgAHRYhBAu+7vBk6Uq+hDJYtHVBz6r8NerPBQJZ4DXKAAoJEHVBz6r8\n",
            "NerPP0YQALqf1obDiraLNVdYjiMDhuYDNbfodTZngMkkVZjQexHvYRxxVjaw7KBq\n",
            "vAsZxxyJ5af1oMFHLEdLi7538XtLpcyw/l2NFfUGN1Da2bJ+xnCL8xK6A1ROYgnH\n",
            "wgH851r/ahQjO7vvuVrKME1on2wSWFFheYa8wE0iNKzYNqn1oHTKccNLnUPoDtjC\n",
            "fs+vg/OjGjJ3vUAoSjn5GGp8WS1m7iigvVKOvf5iEOQyMhDcg2c4b40K1LmtRLNs\n",
            "nW6kL+sYQ7lLGE4GcD4rcTHSggu94s8I600UsXo1OefY7plm+rsujkgcfOfhWy5v\n",
            "kEdJHil0eG2uL9dXxqyOF0vdwvv13pSXnVL66QJ154n2RfxUwUQbhpk7voCiaIM2\n",
            "jHAD+7C5bueMgB7K9Xze9haetrp4pFwrDKjMnmSiwSUZH/8ohZRg4FP6BB4RbxfL\n",
            "nGylQxjXEfCdf+6UYwZccRQ0OtW8SvylTRGHHEZGR3Eb3jKK574Y5CZTwX+O8UO+\n",
            "+Y2M2IED7SEfYB8esDKaSBeA45BpeeAzLp1/cewbNJrGfhLihcW08ssmdfNKj6Hg\n",
            "iQp63e6dEXwMeRqiP8n1dQvRkVuMnhpjry2F9yQwzwyGgpLwiBtNY320M2h+dALA\n",
            "JsgKXSQhGLnKGwZbyw3Xn6r+0IdNXbfBJ9mxzAvVFRhvSwSJZbWluQINBFM+sY8B\n",
            "EADhjxWFMGpto55PFbNFDxfFHzSnZHvdvDFziMPhchNZB2UQvGvMC3p/v2MMu+Jt\n",
            "eou1a41mqbQw9piEGuWPLX4v3HfQGrGwQLMXut7ldKudujbr3AKAS2z/NTosVOoX\n",
            "3pSzbAYukrWuetdg/4drvn3aNxP7L2zu+b+OYQoGw/cQXAxmdmpbB94NoctZt/5A\n",
            "T07Y3DEv/6R3k3ZP9vB78ylHkfza8LWNeBqE/fhUDSTXM2Yr1RimcYudTT/9g1Za\n",
            "+/yg6Zaxgs7nWqQA9tjkoJ8CoE2JMhCBbHwugjjz8BeHXNK7I9EAQnQe1PCWgclt\n",
            "ii3nArjmVwcHkwN3n5L3JLDsL8zUVNOFkzPDp8ovMN6HHqNtVTe0XTVcKeio9fGw\n",
            "CggfZBAXEOUu8CNdPf6JrrUihyyLyGJ5a+T5jQ8KjSn/sgF95eurG9dZKnbWDlfy\n",
            "ewZl2q/KqmFFogdtlm6m49OpfHgG92rGZtm0exbn2TeafLCZCGPTvqPJpBKqfL6g\n",
            "SWbD8WmgjFbMAQ8Kn7vuGqI1IkATXGsnnCSSBg6UxRZAJYeiNjDfGrgOSBSoih18\n",
            "babkaZPAw8gZqZEAX1blnxO86FYrd67g73DegVLecrTx7Y5atwS5osbVWZr7iatS\n",
            "W/IxZL8tRWmk6/tYQw1o7qcZ6mTlgWjaRqHCx0Q3gJHaZQARAQABiQIfBBgBAgAJ\n",
            "BQJTPrGPAhsMAAoJEKFIn+KrmaIaNCMP/jqIu/HFbLeFJ6sh9dC+DTxFgZV0pr7R\n",
            "yFtERfBYwyhGJggV3rklWXnmPCvggCh7FBXPzQaLYj+Ebkg44RlNyTTqwiG6QyG+\n",
            "94BbtoOgcP54ZIeKGmoqyMs7hpKv3jF4i8YkhFBkmd9x2iGBHWyJ/hibZ11l+us5\n",
            "86D7ue9UKKvpSyqwvA+lVQ3wz3tgj/A/baIKDkHfTjyGpTDP9R7qKMiXDEEL5idE\n",
            "PceoUr3vdw2ziF9RkJ5Tqp4bISMmOHUiSWDmhoKBqmmm1/jyfWsPq33wdhliCKm8\n",
            "QsAXHAbYQ8ZSBbnpEkg42C2JBJ/MVm/HcgOaYhyba5KE69Us8zqw91CngodwDQXa\n",
            "nrZXOaA4/H4sUnyg0ucP3YvhL0y1NjH1rfrZ2318wyS40yKkHVkU2sWB6HeNfkJu\n",
            "Nflx37ptkvguTHVF5B+jD9LS5djUGANCYtvRK0jRwCPdqVUgBIb2obr0kmGovXnE\n",
            "Pmn9UZoqDqSm5FY80Rj6ElPSQso0rB9oI2QkNrZaCSezvu6SW2Tzm2b/ceuGz/+r\n",
            "ARLZNqmAFO8oUDjrCw45Dy4ne53e+Vqduvx1Q76LuoUnE2YGqOVGFzT0QLas+oMJ\n",
            "VJl6GRFKtZoRFEhMxDFf2mUSgis4mSjwMZI4pl0YmzDDM8IN/i+P2dFrRr1AkA89\n",
            "I5rGSOk715L9\n",
            "=VuA5\n",
            "-----END PGP PUBLIC KEY BLOCK-----\n",
            "Hit:1 https://cloud.r-project.org/bin/linux/ubuntu jammy-cran40/ InRelease\n",
            "Hit:2 https://developer.download.nvidia.com/compute/cuda/repos/ubuntu2204/x86_64  InRelease\n",
            "Hit:3 http://archive.ubuntu.com/ubuntu jammy InRelease\n",
            "Hit:4 http://security.ubuntu.com/ubuntu jammy-security InRelease\n",
            "Hit:5 http://archive.ubuntu.com/ubuntu jammy-updates InRelease\n",
            "Hit:6 http://archive.ubuntu.com/ubuntu jammy-backports InRelease\n",
            "Ign:7 https://r2u.stat.illinois.edu/ubuntu jammy InRelease\n",
            "Get:8 https://r2u.stat.illinois.edu/ubuntu jammy Release [5,713 B]\n",
            "Get:9 https://r2u.stat.illinois.edu/ubuntu jammy Release.gpg [793 B]\n",
            "Get:10 https://r2u.stat.illinois.edu/ubuntu jammy/main all Packages [8,101 kB]\n",
            "Get:11 https://r2u.stat.illinois.edu/ubuntu jammy/main amd64 Packages [2,530 kB]\n",
            "Hit:12 https://ppa.launchpadcontent.net/c2d4u.team/c2d4u4.0+/ubuntu jammy InRelease\n",
            "Hit:13 https://ppa.launchpadcontent.net/deadsnakes/ppa/ubuntu jammy InRelease\n",
            "Hit:14 https://ppa.launchpadcontent.net/graphics-drivers/ppa/ubuntu jammy InRelease\n",
            "Hit:15 https://ppa.launchpadcontent.net/ubuntugis/ppa/ubuntu jammy InRelease\n",
            "Fetched 10.6 MB in 3s (3,679 kB/s)\n",
            "Reading package lists...\n",
            "Building dependency tree...\n",
            "Reading state information...\n",
            "184 packages can be upgraded. Run 'apt list --upgradable' to see them.\n",
            "-----BEGIN PGP PUBLIC KEY BLOCK-----\n",
            "\n",
            "mQENBEy9tcUBCACnWQfqdrcz7tQL/iCeWDYSYPwXpPMUMLE721HfFH7d8ErunPKP\n",
            "Iwq1v4CrNmMjcainofbu/BfuZESSK1hBAItOk/5VTkzCJlzkrHY9g5v+XlBMPDQC\n",
            "9u4AE/myw3p52+0NXsnBz+a35mxJKMl+9v9ztvueA6EmLr2xaLf/nx4XwXUMSi1L\n",
            "p8i8XpAOz/Xg1fspPMRhuDAGYDnOh4uH1jADGoqYaPMty0yVEmzx74qvdIOvfgj1\n",
            "6A/9LYXk67td6/JQ5LFCZmFsbahAsqi9inNgBZmnfXO4m4lhzeqNjJAgaw7Fz2zq\n",
            "UmvpEheKKClgTQMWWNI9Rx1L8IKnJkuKnpzHABEBAAG0I01pY2hhZWwgUnV0dGVy\n",
            "IDxtYXJ1dHRlckBnbWFpbC5jb20+iQFVBBMBCgA/AhsjBgsJCAcDAgYVCAIJCgsE\n",
            "FgIDAQIeAQIXgBYhBOKYo6glwNZd/VfLtlFxZhnghNq5BQJfdcXRBQkf4HiMAAoJ\n",
            "EFFxZhnghNq5Nj8IAIqCTIJ/tMjZqiuwe7M4DQjpvGn4/QylkYLxn9dOds2nGz82\n",
            "FAukEAR3tmi22TETrqm+UOukFYUnAEOez7BJiWPwCDt9WuD4/Be8rzbjL0wEv/xu\n",
            "D1JHWxVd2DfbJG1PAsuv7ouFYbIdh24a8gYpasd6twdbPOdZa0mbzVOnwAmHiH1l\n",
            "gv2oY/McOO7unc/YGuD2lTb5ohK8yYdHsL5WYK7REPGqEGBS+ppUPWjI1qQb/g2X\n",
            "oSVfbLLiXiwdvBS4hzjiwGNe76B2jDuHsfmQFMdVpOzNKN0dk10Nm8MFFPrirUIl\n",
            "Uwk45UttOrcrs5hluLYZhMYHPJ/UNYnaJeJH58iJAT4EEwECACgFAky9tcUCGyMF\n",
            "CQlmAYAGCwkIBwMCBhUIAgkKCwQWAgMBAh4BAheAAAoJEFFxZhnghNq5PL0H/iGY\n",
            "9DsJKrDk5Lm3xTnLfwGWod+WoV6/eWVfrywO3Nh/FC5BVLd/E4GgaYVD8tJ9dBiE\n",
            "MboFlricO4NkSBvzUy+PQMkOXiWbIx0Ggi9eG90Q8N3+us4b7W3b5Ljb1b00g5sp\n",
            "pkKz1pu/Z+ciGu3IBbFz+I1HmsmY1ejO8lUYCAB42EFKu9moVo8n/8GSVsmF9WA3\n",
            "C3gaC0WXW9pTssxoys5YD0fJ3x1YAa4iFthc44WPVZn86FSVheewh7xfNonXLovJ\n",
            "WQIuFon4xW0bBNesVdGEEtCWEJgF87bmL88ZRZK9GEjyf+v5Ew067LUeUVt7FFiu\n",
            "09c4tuI7wCUW4ixf2dG5AQ0ETL21xQEIANhwKBAIIXVZRKftz9Vc2+CZfO+/eVVf\n",
            "1aRXhB2lwleK1eCVd1NnBXEa/cDEO5osTDFbutuopE/NY2OPjFMfG3Zi1SMT6YtX\n",
            "nwAVpBBTdqV1gbwk+vZ6iEw1mqnYEbah1zPDl5o7mXkROMLWcdSMNSby6zdNXcBc\n",
            "5qMCOC4a+kbcMqfH+Ca52swFVIAQTriR5/IGZJHrzfOReHD42BtMgP1dbU5KoT58\n",
            "tB/RnNASiMx19gh5XxDmwwCZTcn0B2WnIOtlphGaKmGDDw9lMxqGHP+joHPunpWo\n",
            "Dg1yavbbmee0iyNRTPSIrpOxo6L0qsXbdHD4gNQl5iR1VvAapq+AkbUAEQEAAYkB\n",
            "PAQYAQoAJgIbDBYhBOKYo6glwNZd/VfLtlFxZhnghNq5BQJfdcYKBQkf4HjFAAoJ\n",
            "EFFxZhnghNq5J2MH/13zMlB45Qire0mklv3z/Q0HVHTgV8QTRWNdb2GTOQAWQjJZ\n",
            "rupkz/MlwmFejoSJo1uM/Dhb19PNnLyVQ7onHBd7+aeKJ+Tbzlw2dHkgjO3bkRVF\n",
            "VBg0U2xg5a7NXlqSoaAzWi+py6bQR+Qj1AIbZNL9s24LSUfazPc2hO7TsNQoOUCG\n",
            "BQ8zvot2oRXOe/4lOmjaYFTb13KXr5ozrKzkm66p07QM5lXmrdsgterKUDdf00+z\n",
            "EXG+vo+j5qnz77TghahivkZip3FwW5APP+/8fWrQRSMzBToFWGZuLri4uef+P/7D\n",
            "2jiqon7LxHKcTkL+MajTgwrtuH5bI7hL2445uew=\n",
            "=xbQ3\n",
            "-----END PGP PUBLIC KEY BLOCK-----\n",
            "Executing: /tmp/apt-key-gpghome.u9BepAVGGQ/gpg.1.sh --keyserver keyserver.ubuntu.com --recv-keys 67C2D66C4B1D4339 51716619E084DAB9\n",
            "184 packages can be upgraded. Run 'apt list --upgradable' to see them.\n",
            "Reading package lists...\n",
            "Building dependency tree...\n",
            "Reading state information...\n",
            "r-base-core is already the newest version (4.4.0-1.2204.0).\n",
            "0 upgraded, 0 newly installed, 0 to remove and 184 not upgraded.\n",
            "Reading package lists...\n",
            "Building dependency tree...\n",
            "Reading state information...\n",
            "make is already the newest version (4.3-4.1build1).\n",
            "make set to manually installed.\n",
            "python3-dbus is already the newest version (1.2.18-3build1).\n",
            "python3-dbus set to manually installed.\n",
            "python3-apt is already the newest version (2.4.0ubuntu3).\n",
            "python3-apt set to manually installed.\n",
            "python3-gi is already the newest version (3.42.1-0ubuntu1).\n",
            "python3-gi set to manually installed.\n",
            "0 upgraded, 0 newly installed, 0 to remove and 184 not upgraded.\n",
            "* installing /usr/share/dbus-1/system-services/org.r_project.linux1.service\n",
            "* installing /etc/dbus-1/system.d/org.r_project.linux1.conf"
          ]
        },
        {
          "output_type": "stream",
          "name": "stderr",
          "text": [
            "Tracing function \"install.packages\" in package \"utils\"\n",
            "\n"
          ]
        }
      ],
      "source": [
        "# Start with section to define shell call function and install packages\n",
        "shell_call <- function(command, ...) {\n",
        "  result <- system(command, intern = TRUE, ...)\n",
        "  cat(paste0(result, collapse = \"\\n\"))\n",
        "}\n",
        "\n",
        "loadPackages = function(pkgs){\n",
        "  myrequire = function(...){\n",
        "    suppressWarnings(suppressMessages(suppressPackageStartupMessages(require(...))))\n",
        "  }\n",
        "  ok = sapply(pkgs, require, character.only=TRUE, quietly=TRUE)\n",
        "  if (!all(ok)){\n",
        "    message(\"There are missing packages: \", paste(pkgs[!ok], collapse=\", \"))\n",
        "  }\n",
        "}\n",
        "\n",
        "## Setup R2U\n",
        "download.file(\"https://github.com/eddelbuettel/r2u/raw/master/inst/scripts/add_cranapt_jammy.sh\",\n",
        "              \"add_cranapt_jammy.sh\")\n",
        "Sys.chmod(\"add_cranapt_jammy.sh\", \"0755\")\n",
        "shell_call(\"./add_cranapt_jammy.sh\")\n",
        "bspm::enable()\n",
        "options(bspm.version.check=FALSE)\n",
        "shell_call(\"rm add_cranapt_jammy.sh\")"
      ]
    },
    {
      "cell_type": "code",
      "source": [
        "## Install the R packages\n",
        "cranPkgs2Install = c(\"BiocManager\")\n",
        "install.packages(cranPkgs2Install, ask=FALSE, update=TRUE, quietly=TRUE)\n",
        "system(\"sudo apt install libgsl-dev\")\n",
        "BiocManager::install(\"scRepertoire\")\n",
        "install.packages('Seurat')"
      ],
      "metadata": {
        "colab": {
          "base_uri": "https://localhost:8080/"
        },
        "id": "pPBLxrH3HSUx",
        "outputId": "26621a0c-3164-4e12-db1a-68a5ec78fc38"
      },
      "execution_count": null,
      "outputs": [
        {
          "output_type": "stream",
          "name": "stderr",
          "text": [
            "'getOption(\"repos\")' replaces Bioconductor standard repositories, see\n",
            "'help(\"repositories\", package = \"BiocManager\")' for details.\n",
            "Replacement repositories:\n",
            "    CRAN: https://cran.rstudio.com\n",
            "\n",
            "Bioconductor version 3.19 (BiocManager 1.30.23), R 4.4.0 (2024-04-24)\n",
            "\n",
            "Installing package(s) 'BiocVersion', 'scRepertoire'\n",
            "\n",
            "Old packages: 'backports', 'bit', 'brio', 'broom', 'bslib', 'cachem', 'callr',\n",
            "  'curl', 'data.table', 'DBI', 'dbplyr', 'devtools', 'digest', 'farver',\n",
            "  'fastmap', 'fs', 'gargle', 'GenomeInfoDb', 'ggplot2', 'gh', 'gtable',\n",
            "  'highr', 'htmltools', 'httr2', 'isoband', 'knitr', 'munsell', 'openssl',\n",
            "  'pkgbuild', 'processx', 'ragg', 'remotes', 'rlang', 'rmarkdown',\n",
            "  'rstudioapi', 'rvest', 'S4Arrays', 'sass', 'SparseArray', 'stringi',\n",
            "  'systemfonts', 'testthat', 'textshaping', 'tidyselect', 'tinytex', 'usethis',\n",
            "  'whisker', 'xfun', 'xopen', 'zip', 'codetools', 'KernSmooth', 'lattice',\n",
            "  'MASS', 'Matrix', 'nlme', 'survival'\n",
            "\n"
          ]
        }
      ]
    },
    {
      "cell_type": "code",
      "source": [
        "# Download a Seurat object containing the gene expression data and metadata for two individuals (at two time points) from the paper\n",
        "shell_call(\"wget -q --output-document Sokal21_Bcells.Rds https://www.dropbox.com/scl/fi/swv5419nijrsyx2ivmjnw/Sokal21_Bcells.Rds?rlkey=deb763oh199j3mclspfbgdvqw&dl=0\")"
      ],
      "metadata": {
        "id": "QF-HXtrkHWVz"
      },
      "execution_count": null,
      "outputs": []
    },
    {
      "cell_type": "code",
      "source": [
        "# Download the corresponding BCR contigs. Note that heavy chain (HC) and light chain (LC) are in separate files that we will merge later.\n",
        "shell_call(\"wget -q --output-document S-CoV1_M0_Sort1_B_VDJ_HC_filtered.tsv.gz https://www.dropbox.com/scl/fi/owo1v2ua034s6s6rb046v/S-CoV1_M0_Sort1_B_VDJ_HC_filtered.tsv.gz?rlkey=l9ivl9k6q5bykgy8b9sdfnvo5&dl=0\")\n",
        "shell_call(\"wget -q --output-document S-CoV1_M0_Sort1_B_VDJ_LC_filtered.tsv.gz https://www.dropbox.com/scl/fi/u8wcn4ueu2xia3q5qoiab/S-CoV1_M0_Sort1_B_VDJ_LC_filtered.tsv.gz?rlkey=a3k028qfp6zznpvflcr6i7pyg&dl=0\")\n",
        "\n",
        "shell_call(\"wget -q --output-document S-CoV1_M6_Sort1_B_VDJ_HC_filtered.tsv.gz https://www.dropbox.com/scl/fi/ldsh5rml9o8dckja5le2c/S-CoV1_M6_Sort1_B_VDJ_HC_filtered.tsv.gz?rlkey=ul9cxksligcxbs3p1yv27sbe0&dl=0\")\n",
        "shell_call(\"wget -q --output-document S-CoV1_M6_Sort1_B_VDJ_LC_filtered.tsv.gz https://www.dropbox.com/scl/fi/x0c87vhriyi71tuqjmj2k/S-CoV1_M6_Sort1_B_VDJ_LC_filtered.tsv.gz?rlkey=0fuoesu6isnqhbzu5pcfh1v82&dl=0\")\n",
        "\n",
        "shell_call(\"wget -q --output-document S-CoV13_M0_Sort1_B_VDJ_HC_filtered.tsv.gz https://www.dropbox.com/scl/fi/y0e136iqbs2hr49eekwc0/S-CoV13_M0_Sort1_B_VDJ_HC_filtered.tsv.gz?rlkey=9an8qs67aqkmlqrnxabpcolyn&dl=0\")\n",
        "shell_call(\"wget -q --output-document S-CoV13_M0_Sort1_B_VDJ_LC_filtered.tsv.gz https://www.dropbox.com/scl/fi/1ibcepgrc2hswww3krzww/S-CoV13_M0_Sort1_B_VDJ_LC_filtered.tsv.gz?rlkey=5ukvzz74q4qgt2kv0cy3d8tvx&dl=0\")\n",
        "\n",
        "shell_call(\"wget -q --output-document S-CoV13_M6_Sort1_B_VDJ_HC_filtered.tsv.gz https://www.dropbox.com/scl/fi/xigcdobssfj4tcn05zc4o/S-CoV13_M6_Sort1_B_VDJ_HC_filtered.tsv.gz?rlkey=q3gikng60kmwr7udyl144xtjz&dl=0\")\n",
        "shell_call(\"wget -q --output-document S-CoV13_M6_Sort1_B_VDJ_LC_filtered.tsv.gz https://www.dropbox.com/scl/fi/5zn4xz26hgrvx5zg64tzw/S-CoV13_M6_Sort1_B_VDJ_LC_filtered.tsv.gz?rlkey=sgq7acfuyeqb7tbmyg7rr3on1&dl=0\")\n"
      ],
      "metadata": {
        "id": "N3RSN28xPu3d"
      },
      "execution_count": null,
      "outputs": []
    },
    {
      "cell_type": "code",
      "source": [
        "# Load in Seurat object and begin exploring it\n",
        "library(Seurat)\n",
        "bcells = readRDS(\"Sokal21_Bcells.Rds\")"
      ],
      "metadata": {
        "id": "iOYo_pkyH65Q"
      },
      "execution_count": null,
      "outputs": []
    },
    {
      "cell_type": "code",
      "source": [
        "# Explore the Seurat object and make sure it has the expected number of features and samples\n",
        "head(colnames(bcells))"
      ],
      "metadata": {
        "colab": {
          "base_uri": "https://localhost:8080/",
          "height": 34
        },
        "id": "n68ff9XLUJwV",
        "outputId": "5820194f-c7a6-4f2d-8735-adcca8c0319f"
      },
      "execution_count": null,
      "outputs": [
        {
          "output_type": "display_data",
          "data": {
            "text/html": [
              "<style>\n",
              ".list-inline {list-style: none; margin:0; padding: 0}\n",
              ".list-inline>li {display: inline-block}\n",
              ".list-inline>li:not(:last-child)::after {content: \"\\00b7\"; padding: 0 .5ex}\n",
              "</style>\n",
              "<ol class=list-inline><li>'S1_AAACCTGGTCTCGTTC-1'</li><li>'S1_AAACCTGGTGATGCCC-1'</li><li>'S1_AAACCTGTCTCACATT-1'</li><li>'S1_AAACCTGTCTTGCATT-1'</li><li>'S1_AAACGGGAGAACAATC-1'</li><li>'S1_AAACGGGGTCTAGTCA-1'</li></ol>\n"
            ],
            "text/markdown": "1. 'S1_AAACCTGGTCTCGTTC-1'\n2. 'S1_AAACCTGGTGATGCCC-1'\n3. 'S1_AAACCTGTCTCACATT-1'\n4. 'S1_AAACCTGTCTTGCATT-1'\n5. 'S1_AAACGGGAGAACAATC-1'\n6. 'S1_AAACGGGGTCTAGTCA-1'\n\n\n",
            "text/latex": "\\begin{enumerate*}\n\\item 'S1\\_AAACCTGGTCTCGTTC-1'\n\\item 'S1\\_AAACCTGGTGATGCCC-1'\n\\item 'S1\\_AAACCTGTCTCACATT-1'\n\\item 'S1\\_AAACCTGTCTTGCATT-1'\n\\item 'S1\\_AAACGGGAGAACAATC-1'\n\\item 'S1\\_AAACGGGGTCTAGTCA-1'\n\\end{enumerate*}\n",
            "text/plain": [
              "[1] \"S1_AAACCTGGTCTCGTTC-1\" \"S1_AAACCTGGTGATGCCC-1\" \"S1_AAACCTGTCTCACATT-1\"\n",
              "[4] \"S1_AAACCTGTCTTGCATT-1\" \"S1_AAACGGGAGAACAATC-1\" \"S1_AAACGGGGTCTAGTCA-1\""
            ]
          },
          "metadata": {}
        }
      ]
    },
    {
      "cell_type": "code",
      "source": [
        "# Read in the BCR contigs\n",
        "bcr_hc1 = read.table(\"S-CoV1_M0_Sort1_B_VDJ_HC_filtered.tsv.gz\",sep=\"\\t\",header=T)\n",
        "bcr_lc1 = read.table(\"S-CoV1_M0_Sort1_B_VDJ_LC_filtered.tsv.gz\",sep=\"\\t\",header=T)\n",
        "bcr_hc2 = read.table(\"S-CoV1_M6_Sort1_B_VDJ_HC_filtered.tsv.gz\",sep=\"\\t\",header=T)\n",
        "bcr_lc2 = read.table(\"S-CoV1_M6_Sort1_B_VDJ_LC_filtered.tsv.gz\",sep=\"\\t\",header=T)\n",
        "bcr_hc3 = read.table(\"S-CoV13_M0_Sort1_B_VDJ_HC_filtered.tsv.gz\",sep=\"\\t\",header=T)\n",
        "bcr_lc3 = read.table(\"S-CoV13_M0_Sort1_B_VDJ_LC_filtered.tsv.gz\",sep=\"\\t\",header=T)\n",
        "bcr_hc4 = read.table(\"S-CoV13_M6_Sort1_B_VDJ_HC_filtered.tsv.gz\",sep=\"\\t\",header=T)\n",
        "bcr_lc4 = read.table(\"S-CoV13_M6_Sort1_B_VDJ_LC_filtered.tsv.gz\",sep=\"\\t\",header=T)"
      ],
      "metadata": {
        "id": "m_oEaa69IB98"
      },
      "execution_count": null,
      "outputs": []
    },
    {
      "cell_type": "code",
      "source": [
        "# Merge the files into one file that we will use as input to scRepertoire\n",
        "bcr_vdj_all = rbind(bcr_hc1,bcr_lc1,bcr_hc2,bcr_lc2,bcr_hc3,bcr_lc3,bcr_hc4,bcr_lc4)"
      ],
      "metadata": {
        "id": "40C1BvH_VNwx"
      },
      "execution_count": null,
      "outputs": []
    },
    {
      "cell_type": "code",
      "source": [
        "# Load scRepertoire and make the contig list\n",
        "library(scRepertoire)\n",
        "contig.list <- loadContigs(bcr_vdj_all, format = \"AIRR\")"
      ],
      "metadata": {
        "colab": {
          "base_uri": "https://localhost:8080/"
        },
        "id": "SAMk5n3FZQqA",
        "outputId": "d3d722e6-a0d9-45c4-fc2a-9db3129ef5c6"
      },
      "execution_count": null,
      "outputs": [
        {
          "output_type": "stream",
          "name": "stderr",
          "text": [
            "Loading required package: ggplot2\n",
            "\n"
          ]
        }
      ]
    },
    {
      "cell_type": "code",
      "source": [
        "# One more issue - we have to make sure the cell barcodes are the same in the VDJ table and the Seurat object\n",
        "# Check the barcode names in the Seurat object\n",
        "head(colnames(bcells))"
      ],
      "metadata": {
        "id": "SD9kN88Xjdyg",
        "colab": {
          "base_uri": "https://localhost:8080/",
          "height": 34
        },
        "outputId": "42acea63-aab3-4363-ed66-8a7d50607673"
      },
      "execution_count": null,
      "outputs": [
        {
          "output_type": "display_data",
          "data": {
            "text/html": [
              "<style>\n",
              ".list-inline {list-style: none; margin:0; padding: 0}\n",
              ".list-inline>li {display: inline-block}\n",
              ".list-inline>li:not(:last-child)::after {content: \"\\00b7\"; padding: 0 .5ex}\n",
              "</style>\n",
              "<ol class=list-inline><li>'S1_AAACCTGGTCTCGTTC-1'</li><li>'S1_AAACCTGGTGATGCCC-1'</li><li>'S1_AAACCTGTCTCACATT-1'</li><li>'S1_AAACCTGTCTTGCATT-1'</li><li>'S1_AAACGGGAGAACAATC-1'</li><li>'S1_AAACGGGGTCTAGTCA-1'</li></ol>\n"
            ],
            "text/markdown": "1. 'S1_AAACCTGGTCTCGTTC-1'\n2. 'S1_AAACCTGGTGATGCCC-1'\n3. 'S1_AAACCTGTCTCACATT-1'\n4. 'S1_AAACCTGTCTTGCATT-1'\n5. 'S1_AAACGGGAGAACAATC-1'\n6. 'S1_AAACGGGGTCTAGTCA-1'\n\n\n",
            "text/latex": "\\begin{enumerate*}\n\\item 'S1\\_AAACCTGGTCTCGTTC-1'\n\\item 'S1\\_AAACCTGGTGATGCCC-1'\n\\item 'S1\\_AAACCTGTCTCACATT-1'\n\\item 'S1\\_AAACCTGTCTTGCATT-1'\n\\item 'S1\\_AAACGGGAGAACAATC-1'\n\\item 'S1\\_AAACGGGGTCTAGTCA-1'\n\\end{enumerate*}\n",
            "text/plain": [
              "[1] \"S1_AAACCTGGTCTCGTTC-1\" \"S1_AAACCTGGTGATGCCC-1\" \"S1_AAACCTGTCTCACATT-1\"\n",
              "[4] \"S1_AAACCTGTCTTGCATT-1\" \"S1_AAACGGGAGAACAATC-1\" \"S1_AAACGGGGTCTAGTCA-1\""
            ]
          },
          "metadata": {}
        }
      ]
    },
    {
      "cell_type": "code",
      "source": [
        "# Check the barcode names in the contig list\n",
        "head(contig.list[[1]]$barcode)"
      ],
      "metadata": {
        "colab": {
          "base_uri": "https://localhost:8080/",
          "height": 34
        },
        "id": "03dthvb8jh9L",
        "outputId": "341a1f96-0165-4707-ae1a-bb4de5d7395d"
      },
      "execution_count": null,
      "outputs": [
        {
          "output_type": "display_data",
          "data": {
            "text/html": [
              "<style>\n",
              ".list-inline {list-style: none; margin:0; padding: 0}\n",
              ".list-inline>li {display: inline-block}\n",
              ".list-inline>li:not(:last-child)::after {content: \"\\00b7\"; padding: 0 .5ex}\n",
              "</style>\n",
              "<ol class=list-inline><li>'S1_AGCTCTCGTTTGCATG-1'</li><li>'S1_ATAGACCCATGTCGAT-1'</li><li>'S1_ATCTGCCCAGCCAATT-1'</li><li>'S1_CAAGGCCGTGTGAAAT-1'</li><li>'S1_CTCATTAGTCAATACC-1'</li><li>'S1_CTCGGGAGTTCACGGC-1'</li></ol>\n"
            ],
            "text/markdown": "1. 'S1_AGCTCTCGTTTGCATG-1'\n2. 'S1_ATAGACCCATGTCGAT-1'\n3. 'S1_ATCTGCCCAGCCAATT-1'\n4. 'S1_CAAGGCCGTGTGAAAT-1'\n5. 'S1_CTCATTAGTCAATACC-1'\n6. 'S1_CTCGGGAGTTCACGGC-1'\n\n\n",
            "text/latex": "\\begin{enumerate*}\n\\item 'S1\\_AGCTCTCGTTTGCATG-1'\n\\item 'S1\\_ATAGACCCATGTCGAT-1'\n\\item 'S1\\_ATCTGCCCAGCCAATT-1'\n\\item 'S1\\_CAAGGCCGTGTGAAAT-1'\n\\item 'S1\\_CTCATTAGTCAATACC-1'\n\\item 'S1\\_CTCGGGAGTTCACGGC-1'\n\\end{enumerate*}\n",
            "text/plain": [
              "[1] \"S1_AGCTCTCGTTTGCATG-1\" \"S1_ATAGACCCATGTCGAT-1\" \"S1_ATCTGCCCAGCCAATT-1\"\n",
              "[4] \"S1_CAAGGCCGTGTGAAAT-1\" \"S1_CTCATTAGTCAATACC-1\" \"S1_CTCGGGAGTTCACGGC-1\""
            ]
          },
          "metadata": {}
        }
      ]
    },
    {
      "cell_type": "code",
      "source": [
        "# We will edit the barcode names in the VDJ table to match the Seurat object\n",
        "contig.list[[1]]$barcode = gsub(\"S-CoV1_M0_Sort1\",\"S1\",contig.list[[1]]$barcode)\n",
        "contig.list[[1]]$barcode = gsub(\"S-CoV1_M6_Sort1\",\"S2\",contig.list[[1]]$barcode)\n",
        "contig.list[[1]]$barcode = gsub(\"S-CoV13_M0_Sort1\",\"S3\",contig.list[[1]]$barcode)\n",
        "contig.list[[1]]$barcode = gsub(\"S-CoV13_M6_Sort1\",\"S4\",contig.list[[1]]$barcode)"
      ],
      "metadata": {
        "id": "kfBYcQHLjait"
      },
      "execution_count": null,
      "outputs": []
    },
    {
      "cell_type": "code",
      "source": [
        "# Check the barcode names in the contig list again (they should be changed to look like the barcode names in the Seurat object)\n",
        "head(contig.list[[1]]$barcode,n=100)"
      ],
      "metadata": {
        "colab": {
          "base_uri": "https://localhost:8080/",
          "height": 312
        },
        "id": "xuPxVIX0j1xC",
        "outputId": "a8bd0243-112d-48de-c8cc-0df94b8a2b6c"
      },
      "execution_count": null,
      "outputs": [
        {
          "output_type": "display_data",
          "data": {
            "text/html": [
              "<style>\n",
              ".list-inline {list-style: none; margin:0; padding: 0}\n",
              ".list-inline>li {display: inline-block}\n",
              ".list-inline>li:not(:last-child)::after {content: \"\\00b7\"; padding: 0 .5ex}\n",
              "</style>\n",
              "<ol class=list-inline><li>'S1_AGCTCTCGTTTGCATG-1'</li><li>'S1_ATAGACCCATGTCGAT-1'</li><li>'S1_ATCTGCCCAGCCAATT-1'</li><li>'S1_CAAGGCCGTGTGAAAT-1'</li><li>'S1_CTCATTAGTCAATACC-1'</li><li>'S1_CTCGGGAGTTCACGGC-1'</li><li>'S1_AACTCCCTCGTATCAG-1'</li><li>'S2_ACATCAGTCGTGGACC-1'</li><li>'S1_GACGCGTCATCGATGT-1'</li><li>'S1_CGAACATAGCAACGGT-1'</li><li>'S3_CGGTTAATCGGCTACG-1'</li><li>'S1_GTATTCTAGAGTCGGT-1'</li><li>'S1_AGGCCACCATCGGACC-1'</li><li>'S1_GATCGATTCGAATGCT-1'</li><li>'S1_GGGACCTAGTGCCAGA-1'</li><li>'S1_ACCCACTCATATGGTC-1'</li><li>'S1_AGACGTTAGGGCTCTC-1'</li><li>'S1_GCATGTAAGATGTAAC-1'</li><li>'S1_GCTTCCAGTGGCCCTA-1'</li><li>'S4_TAGTTGGAGCGACGTA-1'</li><li>'S1_CATATGGTCAGGCGAA-1'</li><li>'S1_CATCGAAAGATCTGAA-1'</li><li>'S3_CCCAATCGTACCGCTG-1'</li><li>'S4_GAAACTCCAGTGGAGT-1'</li><li>'S1_CATATTCTCGGAGGTA-1'</li><li>'S1_GCAATCACAGGACGTA-1'</li><li>'S1_GCTTGAACAAGCTGTT-1'</li><li>'S1_TAAACCGTCGCAGGCT-1'</li><li>'S1_AGTGTCATCAGTGTTG-1'</li><li>'S1_CCGGTAGAGAACTCGG-1'</li><li>'S1_GGGAGATAGAAACCAT-1'</li><li>'S1_CGCCAAGGTTTAGCTG-1'</li><li>'S1_AACCATGAGGTCATCT-1'</li><li>'S1_GCAGCCACATATACCG-1'</li><li>'S1_GTCCTCAAGATGCGAC-1'</li><li>'S1_ACGTCAAAGTACATGA-1'</li><li>'S1_AGCGGTCTCTTACCTA-1'</li><li>'S1_ACGCCAGGTTACGGAG-1'</li><li>'S1_TTGCGTCTCAACCATG-1'</li><li>'S1_GTGCGGTAGCTCTCGG-1'</li><li>'S4_CTGTTTAAGCGCCTTG-1'</li><li>'S1_GGAATAAGTGATAAGT-1'</li><li>'S2_GAATAAGTCTGTCAAG-1'</li><li>'S4_CATCAAGCATTTGCTT-1'</li><li>'S4_CGAGCACGTACAGTGG-1'</li><li>'S1_CAGAATCCACTACAGT-1'</li><li>'S1_GACAGAGAGGTCATCT-1'</li><li>'S1_TGACGGCCAGGGTATG-1'</li><li>'S1_CACAAACTCCTGTACC-1'</li><li>'S3_GCTGCGATCGTTGCCT-1'</li><li>'S1_AAAGTAGGTAGCAAAT-1'</li><li>'S1_TAGACCAGTTCACGGC-1'</li><li>'S1_AGTTGGTAGGGTGTTG-1'</li><li>'S1_TCTTTCCTCTTTACAC-1'</li><li>'S1_CTTCTCTAGTGTTGAA-1'</li><li>'S1_CAGCTGGCAAACCTAC-1'</li><li>'S1_CATTCGCCACACAGAG-1'</li><li>'S1_CGACTTCTCGCAAACT-1'</li><li>'S1_CTAGTGACACGAGAGT-1'</li><li>'S1_ACAGCTAAGATCTGCT-1'</li><li>'S1_CCACGGAGTTGAGGTG-1'</li><li>'S1_GTCCTCACAACGATGG-1'</li><li>'S1_AGCGGTCAGTGAACGC-1'</li><li>'S1_CCTATTAGTGCCTGCA-1'</li><li>'S1_CGATCGGAGGCTCTTA-1'</li><li>'S1_GACGCGTTCTGGTGTA-1'</li><li>'S3_CACCACTCAAGAAGAG-1'</li><li>'S1_CAAGGCCGTCTAACGT-1'</li><li>'S1_GCTCTGTTCTGCTTGC-1'</li><li>'S1_GCTGCTTAGTGAAGTT-1'</li><li>'S1_TCTTTCCTCTTTACAC-1'</li><li>'S1_GACACGCCATCATCCC-1'</li><li>'S1_TGAGAGGAGGAGTAGA-1'</li><li>'S1_AATCGGTCAAGCTGAG-1'</li><li>'S1_GAACCTAAGCGTCAAG-1'</li><li>'S1_GACGTGCTCGTACCGG-1'</li><li>'S1_GGACAGATCGCAGGCT-1'</li><li>'S1_TACTTGTAGGCGACAT-1'</li><li>'S1_CGATTGATCACAACGT-1'</li><li>'S1_GTCCTCACATCCAACA-1'</li><li>'S1_TGTGGTAGTCTGCGGT-1'</li><li>'S1_AAAGCAACATGTAGTC-1'</li><li>'S1_TCCCGATAGACTCGGA-1'</li><li>'S3_CAACTAGGTGTCGCTG-1'</li><li>'S1_CTCACACGTTTCCACC-1'</li><li>'S1_GCAGCCACATATACCG-1'</li><li>'S1_ATCTGCCCAGCCAATT-1'</li><li>'S1_ACGATGTAGTACGATA-1'</li><li>'S1_CGACTTCAGTCCGGTC-1'</li><li>'S1_TCAATCTTCGGCGGTT-1'</li><li>'S2_CTACGTCGTTATGCGT-1'</li><li>'S1_CTACCCATCAACGAAA-1'</li><li>'S1_GCAAACTCATTGGCGC-1'</li><li>'S1_GCGCAGTTCGGACAAG-1'</li><li>'S1_GACGTGCTCGTACCGG-1'</li><li>'S1_GTAGGCCTCCATTCTA-1'</li><li>'S1_GCGCAGTTCGGACAAG-1'</li><li>'S1_CGTCACTAGATGTGTA-1'</li><li>'S1_AAAGCAACATGTAGTC-1'</li><li>'S1_TAAGCGTCAAAGAATC-1'</li></ol>\n"
            ],
            "text/markdown": "1. 'S1_AGCTCTCGTTTGCATG-1'\n2. 'S1_ATAGACCCATGTCGAT-1'\n3. 'S1_ATCTGCCCAGCCAATT-1'\n4. 'S1_CAAGGCCGTGTGAAAT-1'\n5. 'S1_CTCATTAGTCAATACC-1'\n6. 'S1_CTCGGGAGTTCACGGC-1'\n7. 'S1_AACTCCCTCGTATCAG-1'\n8. 'S2_ACATCAGTCGTGGACC-1'\n9. 'S1_GACGCGTCATCGATGT-1'\n10. 'S1_CGAACATAGCAACGGT-1'\n11. 'S3_CGGTTAATCGGCTACG-1'\n12. 'S1_GTATTCTAGAGTCGGT-1'\n13. 'S1_AGGCCACCATCGGACC-1'\n14. 'S1_GATCGATTCGAATGCT-1'\n15. 'S1_GGGACCTAGTGCCAGA-1'\n16. 'S1_ACCCACTCATATGGTC-1'\n17. 'S1_AGACGTTAGGGCTCTC-1'\n18. 'S1_GCATGTAAGATGTAAC-1'\n19. 'S1_GCTTCCAGTGGCCCTA-1'\n20. 'S4_TAGTTGGAGCGACGTA-1'\n21. 'S1_CATATGGTCAGGCGAA-1'\n22. 'S1_CATCGAAAGATCTGAA-1'\n23. 'S3_CCCAATCGTACCGCTG-1'\n24. 'S4_GAAACTCCAGTGGAGT-1'\n25. 'S1_CATATTCTCGGAGGTA-1'\n26. 'S1_GCAATCACAGGACGTA-1'\n27. 'S1_GCTTGAACAAGCTGTT-1'\n28. 'S1_TAAACCGTCGCAGGCT-1'\n29. 'S1_AGTGTCATCAGTGTTG-1'\n30. 'S1_CCGGTAGAGAACTCGG-1'\n31. 'S1_GGGAGATAGAAACCAT-1'\n32. 'S1_CGCCAAGGTTTAGCTG-1'\n33. 'S1_AACCATGAGGTCATCT-1'\n34. 'S1_GCAGCCACATATACCG-1'\n35. 'S1_GTCCTCAAGATGCGAC-1'\n36. 'S1_ACGTCAAAGTACATGA-1'\n37. 'S1_AGCGGTCTCTTACCTA-1'\n38. 'S1_ACGCCAGGTTACGGAG-1'\n39. 'S1_TTGCGTCTCAACCATG-1'\n40. 'S1_GTGCGGTAGCTCTCGG-1'\n41. 'S4_CTGTTTAAGCGCCTTG-1'\n42. 'S1_GGAATAAGTGATAAGT-1'\n43. 'S2_GAATAAGTCTGTCAAG-1'\n44. 'S4_CATCAAGCATTTGCTT-1'\n45. 'S4_CGAGCACGTACAGTGG-1'\n46. 'S1_CAGAATCCACTACAGT-1'\n47. 'S1_GACAGAGAGGTCATCT-1'\n48. 'S1_TGACGGCCAGGGTATG-1'\n49. 'S1_CACAAACTCCTGTACC-1'\n50. 'S3_GCTGCGATCGTTGCCT-1'\n51. 'S1_AAAGTAGGTAGCAAAT-1'\n52. 'S1_TAGACCAGTTCACGGC-1'\n53. 'S1_AGTTGGTAGGGTGTTG-1'\n54. 'S1_TCTTTCCTCTTTACAC-1'\n55. 'S1_CTTCTCTAGTGTTGAA-1'\n56. 'S1_CAGCTGGCAAACCTAC-1'\n57. 'S1_CATTCGCCACACAGAG-1'\n58. 'S1_CGACTTCTCGCAAACT-1'\n59. 'S1_CTAGTGACACGAGAGT-1'\n60. 'S1_ACAGCTAAGATCTGCT-1'\n61. 'S1_CCACGGAGTTGAGGTG-1'\n62. 'S1_GTCCTCACAACGATGG-1'\n63. 'S1_AGCGGTCAGTGAACGC-1'\n64. 'S1_CCTATTAGTGCCTGCA-1'\n65. 'S1_CGATCGGAGGCTCTTA-1'\n66. 'S1_GACGCGTTCTGGTGTA-1'\n67. 'S3_CACCACTCAAGAAGAG-1'\n68. 'S1_CAAGGCCGTCTAACGT-1'\n69. 'S1_GCTCTGTTCTGCTTGC-1'\n70. 'S1_GCTGCTTAGTGAAGTT-1'\n71. 'S1_TCTTTCCTCTTTACAC-1'\n72. 'S1_GACACGCCATCATCCC-1'\n73. 'S1_TGAGAGGAGGAGTAGA-1'\n74. 'S1_AATCGGTCAAGCTGAG-1'\n75. 'S1_GAACCTAAGCGTCAAG-1'\n76. 'S1_GACGTGCTCGTACCGG-1'\n77. 'S1_GGACAGATCGCAGGCT-1'\n78. 'S1_TACTTGTAGGCGACAT-1'\n79. 'S1_CGATTGATCACAACGT-1'\n80. 'S1_GTCCTCACATCCAACA-1'\n81. 'S1_TGTGGTAGTCTGCGGT-1'\n82. 'S1_AAAGCAACATGTAGTC-1'\n83. 'S1_TCCCGATAGACTCGGA-1'\n84. 'S3_CAACTAGGTGTCGCTG-1'\n85. 'S1_CTCACACGTTTCCACC-1'\n86. 'S1_GCAGCCACATATACCG-1'\n87. 'S1_ATCTGCCCAGCCAATT-1'\n88. 'S1_ACGATGTAGTACGATA-1'\n89. 'S1_CGACTTCAGTCCGGTC-1'\n90. 'S1_TCAATCTTCGGCGGTT-1'\n91. 'S2_CTACGTCGTTATGCGT-1'\n92. 'S1_CTACCCATCAACGAAA-1'\n93. 'S1_GCAAACTCATTGGCGC-1'\n94. 'S1_GCGCAGTTCGGACAAG-1'\n95. 'S1_GACGTGCTCGTACCGG-1'\n96. 'S1_GTAGGCCTCCATTCTA-1'\n97. 'S1_GCGCAGTTCGGACAAG-1'\n98. 'S1_CGTCACTAGATGTGTA-1'\n99. 'S1_AAAGCAACATGTAGTC-1'\n100. 'S1_TAAGCGTCAAAGAATC-1'\n\n\n",
            "text/latex": "\\begin{enumerate*}\n\\item 'S1\\_AGCTCTCGTTTGCATG-1'\n\\item 'S1\\_ATAGACCCATGTCGAT-1'\n\\item 'S1\\_ATCTGCCCAGCCAATT-1'\n\\item 'S1\\_CAAGGCCGTGTGAAAT-1'\n\\item 'S1\\_CTCATTAGTCAATACC-1'\n\\item 'S1\\_CTCGGGAGTTCACGGC-1'\n\\item 'S1\\_AACTCCCTCGTATCAG-1'\n\\item 'S2\\_ACATCAGTCGTGGACC-1'\n\\item 'S1\\_GACGCGTCATCGATGT-1'\n\\item 'S1\\_CGAACATAGCAACGGT-1'\n\\item 'S3\\_CGGTTAATCGGCTACG-1'\n\\item 'S1\\_GTATTCTAGAGTCGGT-1'\n\\item 'S1\\_AGGCCACCATCGGACC-1'\n\\item 'S1\\_GATCGATTCGAATGCT-1'\n\\item 'S1\\_GGGACCTAGTGCCAGA-1'\n\\item 'S1\\_ACCCACTCATATGGTC-1'\n\\item 'S1\\_AGACGTTAGGGCTCTC-1'\n\\item 'S1\\_GCATGTAAGATGTAAC-1'\n\\item 'S1\\_GCTTCCAGTGGCCCTA-1'\n\\item 'S4\\_TAGTTGGAGCGACGTA-1'\n\\item 'S1\\_CATATGGTCAGGCGAA-1'\n\\item 'S1\\_CATCGAAAGATCTGAA-1'\n\\item 'S3\\_CCCAATCGTACCGCTG-1'\n\\item 'S4\\_GAAACTCCAGTGGAGT-1'\n\\item 'S1\\_CATATTCTCGGAGGTA-1'\n\\item 'S1\\_GCAATCACAGGACGTA-1'\n\\item 'S1\\_GCTTGAACAAGCTGTT-1'\n\\item 'S1\\_TAAACCGTCGCAGGCT-1'\n\\item 'S1\\_AGTGTCATCAGTGTTG-1'\n\\item 'S1\\_CCGGTAGAGAACTCGG-1'\n\\item 'S1\\_GGGAGATAGAAACCAT-1'\n\\item 'S1\\_CGCCAAGGTTTAGCTG-1'\n\\item 'S1\\_AACCATGAGGTCATCT-1'\n\\item 'S1\\_GCAGCCACATATACCG-1'\n\\item 'S1\\_GTCCTCAAGATGCGAC-1'\n\\item 'S1\\_ACGTCAAAGTACATGA-1'\n\\item 'S1\\_AGCGGTCTCTTACCTA-1'\n\\item 'S1\\_ACGCCAGGTTACGGAG-1'\n\\item 'S1\\_TTGCGTCTCAACCATG-1'\n\\item 'S1\\_GTGCGGTAGCTCTCGG-1'\n\\item 'S4\\_CTGTTTAAGCGCCTTG-1'\n\\item 'S1\\_GGAATAAGTGATAAGT-1'\n\\item 'S2\\_GAATAAGTCTGTCAAG-1'\n\\item 'S4\\_CATCAAGCATTTGCTT-1'\n\\item 'S4\\_CGAGCACGTACAGTGG-1'\n\\item 'S1\\_CAGAATCCACTACAGT-1'\n\\item 'S1\\_GACAGAGAGGTCATCT-1'\n\\item 'S1\\_TGACGGCCAGGGTATG-1'\n\\item 'S1\\_CACAAACTCCTGTACC-1'\n\\item 'S3\\_GCTGCGATCGTTGCCT-1'\n\\item 'S1\\_AAAGTAGGTAGCAAAT-1'\n\\item 'S1\\_TAGACCAGTTCACGGC-1'\n\\item 'S1\\_AGTTGGTAGGGTGTTG-1'\n\\item 'S1\\_TCTTTCCTCTTTACAC-1'\n\\item 'S1\\_CTTCTCTAGTGTTGAA-1'\n\\item 'S1\\_CAGCTGGCAAACCTAC-1'\n\\item 'S1\\_CATTCGCCACACAGAG-1'\n\\item 'S1\\_CGACTTCTCGCAAACT-1'\n\\item 'S1\\_CTAGTGACACGAGAGT-1'\n\\item 'S1\\_ACAGCTAAGATCTGCT-1'\n\\item 'S1\\_CCACGGAGTTGAGGTG-1'\n\\item 'S1\\_GTCCTCACAACGATGG-1'\n\\item 'S1\\_AGCGGTCAGTGAACGC-1'\n\\item 'S1\\_CCTATTAGTGCCTGCA-1'\n\\item 'S1\\_CGATCGGAGGCTCTTA-1'\n\\item 'S1\\_GACGCGTTCTGGTGTA-1'\n\\item 'S3\\_CACCACTCAAGAAGAG-1'\n\\item 'S1\\_CAAGGCCGTCTAACGT-1'\n\\item 'S1\\_GCTCTGTTCTGCTTGC-1'\n\\item 'S1\\_GCTGCTTAGTGAAGTT-1'\n\\item 'S1\\_TCTTTCCTCTTTACAC-1'\n\\item 'S1\\_GACACGCCATCATCCC-1'\n\\item 'S1\\_TGAGAGGAGGAGTAGA-1'\n\\item 'S1\\_AATCGGTCAAGCTGAG-1'\n\\item 'S1\\_GAACCTAAGCGTCAAG-1'\n\\item 'S1\\_GACGTGCTCGTACCGG-1'\n\\item 'S1\\_GGACAGATCGCAGGCT-1'\n\\item 'S1\\_TACTTGTAGGCGACAT-1'\n\\item 'S1\\_CGATTGATCACAACGT-1'\n\\item 'S1\\_GTCCTCACATCCAACA-1'\n\\item 'S1\\_TGTGGTAGTCTGCGGT-1'\n\\item 'S1\\_AAAGCAACATGTAGTC-1'\n\\item 'S1\\_TCCCGATAGACTCGGA-1'\n\\item 'S3\\_CAACTAGGTGTCGCTG-1'\n\\item 'S1\\_CTCACACGTTTCCACC-1'\n\\item 'S1\\_GCAGCCACATATACCG-1'\n\\item 'S1\\_ATCTGCCCAGCCAATT-1'\n\\item 'S1\\_ACGATGTAGTACGATA-1'\n\\item 'S1\\_CGACTTCAGTCCGGTC-1'\n\\item 'S1\\_TCAATCTTCGGCGGTT-1'\n\\item 'S2\\_CTACGTCGTTATGCGT-1'\n\\item 'S1\\_CTACCCATCAACGAAA-1'\n\\item 'S1\\_GCAAACTCATTGGCGC-1'\n\\item 'S1\\_GCGCAGTTCGGACAAG-1'\n\\item 'S1\\_GACGTGCTCGTACCGG-1'\n\\item 'S1\\_GTAGGCCTCCATTCTA-1'\n\\item 'S1\\_GCGCAGTTCGGACAAG-1'\n\\item 'S1\\_CGTCACTAGATGTGTA-1'\n\\item 'S1\\_AAAGCAACATGTAGTC-1'\n\\item 'S1\\_TAAGCGTCAAAGAATC-1'\n\\end{enumerate*}\n",
            "text/plain": [
              "  [1] \"S1_AGCTCTCGTTTGCATG-1\" \"S1_ATAGACCCATGTCGAT-1\" \"S1_ATCTGCCCAGCCAATT-1\"\n",
              "  [4] \"S1_CAAGGCCGTGTGAAAT-1\" \"S1_CTCATTAGTCAATACC-1\" \"S1_CTCGGGAGTTCACGGC-1\"\n",
              "  [7] \"S1_AACTCCCTCGTATCAG-1\" \"S2_ACATCAGTCGTGGACC-1\" \"S1_GACGCGTCATCGATGT-1\"\n",
              " [10] \"S1_CGAACATAGCAACGGT-1\" \"S3_CGGTTAATCGGCTACG-1\" \"S1_GTATTCTAGAGTCGGT-1\"\n",
              " [13] \"S1_AGGCCACCATCGGACC-1\" \"S1_GATCGATTCGAATGCT-1\" \"S1_GGGACCTAGTGCCAGA-1\"\n",
              " [16] \"S1_ACCCACTCATATGGTC-1\" \"S1_AGACGTTAGGGCTCTC-1\" \"S1_GCATGTAAGATGTAAC-1\"\n",
              " [19] \"S1_GCTTCCAGTGGCCCTA-1\" \"S4_TAGTTGGAGCGACGTA-1\" \"S1_CATATGGTCAGGCGAA-1\"\n",
              " [22] \"S1_CATCGAAAGATCTGAA-1\" \"S3_CCCAATCGTACCGCTG-1\" \"S4_GAAACTCCAGTGGAGT-1\"\n",
              " [25] \"S1_CATATTCTCGGAGGTA-1\" \"S1_GCAATCACAGGACGTA-1\" \"S1_GCTTGAACAAGCTGTT-1\"\n",
              " [28] \"S1_TAAACCGTCGCAGGCT-1\" \"S1_AGTGTCATCAGTGTTG-1\" \"S1_CCGGTAGAGAACTCGG-1\"\n",
              " [31] \"S1_GGGAGATAGAAACCAT-1\" \"S1_CGCCAAGGTTTAGCTG-1\" \"S1_AACCATGAGGTCATCT-1\"\n",
              " [34] \"S1_GCAGCCACATATACCG-1\" \"S1_GTCCTCAAGATGCGAC-1\" \"S1_ACGTCAAAGTACATGA-1\"\n",
              " [37] \"S1_AGCGGTCTCTTACCTA-1\" \"S1_ACGCCAGGTTACGGAG-1\" \"S1_TTGCGTCTCAACCATG-1\"\n",
              " [40] \"S1_GTGCGGTAGCTCTCGG-1\" \"S4_CTGTTTAAGCGCCTTG-1\" \"S1_GGAATAAGTGATAAGT-1\"\n",
              " [43] \"S2_GAATAAGTCTGTCAAG-1\" \"S4_CATCAAGCATTTGCTT-1\" \"S4_CGAGCACGTACAGTGG-1\"\n",
              " [46] \"S1_CAGAATCCACTACAGT-1\" \"S1_GACAGAGAGGTCATCT-1\" \"S1_TGACGGCCAGGGTATG-1\"\n",
              " [49] \"S1_CACAAACTCCTGTACC-1\" \"S3_GCTGCGATCGTTGCCT-1\" \"S1_AAAGTAGGTAGCAAAT-1\"\n",
              " [52] \"S1_TAGACCAGTTCACGGC-1\" \"S1_AGTTGGTAGGGTGTTG-1\" \"S1_TCTTTCCTCTTTACAC-1\"\n",
              " [55] \"S1_CTTCTCTAGTGTTGAA-1\" \"S1_CAGCTGGCAAACCTAC-1\" \"S1_CATTCGCCACACAGAG-1\"\n",
              " [58] \"S1_CGACTTCTCGCAAACT-1\" \"S1_CTAGTGACACGAGAGT-1\" \"S1_ACAGCTAAGATCTGCT-1\"\n",
              " [61] \"S1_CCACGGAGTTGAGGTG-1\" \"S1_GTCCTCACAACGATGG-1\" \"S1_AGCGGTCAGTGAACGC-1\"\n",
              " [64] \"S1_CCTATTAGTGCCTGCA-1\" \"S1_CGATCGGAGGCTCTTA-1\" \"S1_GACGCGTTCTGGTGTA-1\"\n",
              " [67] \"S3_CACCACTCAAGAAGAG-1\" \"S1_CAAGGCCGTCTAACGT-1\" \"S1_GCTCTGTTCTGCTTGC-1\"\n",
              " [70] \"S1_GCTGCTTAGTGAAGTT-1\" \"S1_TCTTTCCTCTTTACAC-1\" \"S1_GACACGCCATCATCCC-1\"\n",
              " [73] \"S1_TGAGAGGAGGAGTAGA-1\" \"S1_AATCGGTCAAGCTGAG-1\" \"S1_GAACCTAAGCGTCAAG-1\"\n",
              " [76] \"S1_GACGTGCTCGTACCGG-1\" \"S1_GGACAGATCGCAGGCT-1\" \"S1_TACTTGTAGGCGACAT-1\"\n",
              " [79] \"S1_CGATTGATCACAACGT-1\" \"S1_GTCCTCACATCCAACA-1\" \"S1_TGTGGTAGTCTGCGGT-1\"\n",
              " [82] \"S1_AAAGCAACATGTAGTC-1\" \"S1_TCCCGATAGACTCGGA-1\" \"S3_CAACTAGGTGTCGCTG-1\"\n",
              " [85] \"S1_CTCACACGTTTCCACC-1\" \"S1_GCAGCCACATATACCG-1\" \"S1_ATCTGCCCAGCCAATT-1\"\n",
              " [88] \"S1_ACGATGTAGTACGATA-1\" \"S1_CGACTTCAGTCCGGTC-1\" \"S1_TCAATCTTCGGCGGTT-1\"\n",
              " [91] \"S2_CTACGTCGTTATGCGT-1\" \"S1_CTACCCATCAACGAAA-1\" \"S1_GCAAACTCATTGGCGC-1\"\n",
              " [94] \"S1_GCGCAGTTCGGACAAG-1\" \"S1_GACGTGCTCGTACCGG-1\" \"S1_GTAGGCCTCCATTCTA-1\"\n",
              " [97] \"S1_GCGCAGTTCGGACAAG-1\" \"S1_CGTCACTAGATGTGTA-1\" \"S1_AAAGCAACATGTAGTC-1\"\n",
              "[100] \"S1_TAAGCGTCAAAGAATC-1\""
            ]
          },
          "metadata": {}
        }
      ]
    },
    {
      "cell_type": "code",
      "source": [
        "# Now we have matching names between the Seurat object and the BCR VDJ contigs\n",
        "# One last problem is that we have too many cells to analyze in Google colab. 25 thousand is a lot, so we will sample down to 5 thousand to speed up our analyses.\n",
        "# We have to be careful to sample the same cells from the Seurat object and the contigs file.\n",
        "bcell_sample_ids = sample(colnames(bcells),5000,replace=F)\n",
        "bcells@meta.data$CellName = colnames(bcells)\n",
        "bcells = subset(bcells, subset = CellName %in% bcell_sample_ids)"
      ],
      "metadata": {
        "id": "WRIUwQJNnbhr"
      },
      "execution_count": null,
      "outputs": []
    },
    {
      "cell_type": "code",
      "source": [
        "# Sample the contig list to a the cells we sampled for the Seurat object\n",
        "contig.list[[1]] = contig.list[[1]][contig.list[[1]]$barcode %in% bcell_sample_ids,]\n",
        "dim(contig.list[[1]])"
      ],
      "metadata": {
        "id": "ULfEG2pItdxu",
        "colab": {
          "base_uri": "https://localhost:8080/",
          "height": 34
        },
        "outputId": "83a4e72e-0864-4511-b762-a8c1733b63ff"
      },
      "execution_count": null,
      "outputs": [
        {
          "output_type": "display_data",
          "data": {
            "text/html": [
              "<style>\n",
              ".list-inline {list-style: none; margin:0; padding: 0}\n",
              ".list-inline>li {display: inline-block}\n",
              ".list-inline>li:not(:last-child)::after {content: \"\\00b7\"; padding: 0 .5ex}\n",
              "</style>\n",
              "<ol class=list-inline><li>6901</li><li>9</li></ol>\n"
            ],
            "text/markdown": "1. 6901\n2. 9\n\n\n",
            "text/latex": "\\begin{enumerate*}\n\\item 6901\n\\item 9\n\\end{enumerate*}\n",
            "text/plain": [
              "[1] 6901    9"
            ]
          },
          "metadata": {}
        }
      ]
    },
    {
      "cell_type": "code",
      "source": [
        "# Finally we can run combineBCR to make cell annotations and call clones\n",
        "combined.BCR <- combineBCR(contig.list, samples = \"P1\", threshold = 0.85)"
      ],
      "metadata": {
        "id": "6dHSF1h_kKZU"
      },
      "execution_count": null,
      "outputs": []
    },
    {
      "cell_type": "code",
      "source": [
        "# We have to clean up these barcode names after the combineBCR funtion added \"P1_\" to each name\n",
        "combined.BCR$P1$barcode = sub(\"P1_\",\"\",combined.BCR$P1$barcode)"
      ],
      "metadata": {
        "id": "2drl6d0fkTy_"
      },
      "execution_count": null,
      "outputs": []
    },
    {
      "cell_type": "code",
      "source": [
        "# Now we can integrate the gene expression in the Seurat object with the BCR calls\n",
        "bcells = combineExpression(combined.BCR,bcells,cloneCall=\"gene\")"
      ],
      "metadata": {
        "id": "I8aaQERGkCMh"
      },
      "execution_count": null,
      "outputs": []
    },
    {
      "cell_type": "code",
      "source": [
        "# Check the object identities\n",
        "Idents(object = bcells) <- \"patient\"\n",
        "table(Idents(bcells))"
      ],
      "metadata": {
        "id": "WsCsFQnkXR1P",
        "colab": {
          "base_uri": "https://localhost:8080/",
          "height": 69
        },
        "outputId": "1e25ae60-6f54-490f-e894-46fc538aa5d1"
      },
      "execution_count": null,
      "outputs": [
        {
          "output_type": "display_data",
          "data": {
            "text/plain": [
              "\n",
              " S-CoV1 S-CoV13 \n",
              "   2700    2300 "
            ]
          },
          "metadata": {}
        }
      ]
    },
    {
      "cell_type": "markdown",
      "source": [
        "From this point please continue to process the data if necessary and perform analysis to answer the questions described at the top of the notebook. Good luck!"
      ],
      "metadata": {
        "id": "MbP2OsCTv5r4"
      }
    }
  ]
}